{
 "cells": [
  {
   "cell_type": "code",
   "execution_count": 1,
   "metadata": {
    "colab": {},
    "colab_type": "code",
    "id": "z1HPHxWnes0S"
   },
   "outputs": [],
   "source": [
    "#Importing all the libraries\n",
    "import os\n",
    "import datetime\n",
    "import pandas as pd \n",
    "import numpy as np\n",
    "from sklearn import metrics\n",
    "from sklearn.model_selection import train_test_split\n",
    "from sklearn.model_selection import GridSearchCV\n",
    "from sklearn.metrics import mean_absolute_error\n",
    "from sklearn.ensemble import RandomForestClassifier\n",
    "from sklearn.model_selection import RandomizedSearchCV\n",
    "#Data Visualization\n",
    "import seaborn as sns\n",
    "import matplotlib.pyplot as plt\n",
    "%matplotlib inline\n",
    "#Warnings\n",
    "import warnings\n",
    "warnings.filterwarnings(\"ignore\")"
   ]
  },
  {
   "cell_type": "markdown",
   "metadata": {
    "colab_type": "text",
    "id": "nzIkb1dqH8sw"
   },
   "source": [
    "# Reading Dataset"
   ]
  },
  {
   "cell_type": "code",
   "execution_count": 2,
   "metadata": {
    "colab": {
     "base_uri": "https://localhost:8080/",
     "height": 55
    },
    "colab_type": "code",
    "id": "j13RzlEce3a5",
    "outputId": "17b1e79a-871c-4686-a1b5-dd65740a9c2e"
   },
   "outputs": [
    {
     "name": "stdout",
     "output_type": "stream",
     "text": [
      "(478421, 18)\n",
      "(119606, 17)\n"
     ]
    }
   ],
   "source": [
    "train_file = pd.read_csv(r\"C:\\Users\\KAAMII\\Downloads\\Consumer Complaint Dispution\\Data\\Consumer_Complaints_train.csv\")\n",
    "test_file = pd.read_csv(r\"C:\\Users\\KAAMII\\Downloads\\Consumer Complaint Dispution\\Data\\Consumer_Complaints_test_share.csv\")\n",
    "\n",
    "print(train_file.shape)\n",
    "print(test_file.shape)"
   ]
  },
  {
   "cell_type": "code",
   "execution_count": 3,
   "metadata": {
    "colab": {
     "base_uri": "https://localhost:8080/",
     "height": 517
    },
    "colab_type": "code",
    "id": "ATaVs2Z8u3J-",
    "outputId": "c2a4ed77-169f-4dbe-e821-f4de3dec884d"
   },
   "outputs": [
    {
     "data": {
      "text/html": [
       "<div>\n",
       "<style scoped>\n",
       "    .dataframe tbody tr th:only-of-type {\n",
       "        vertical-align: middle;\n",
       "    }\n",
       "\n",
       "    .dataframe tbody tr th {\n",
       "        vertical-align: top;\n",
       "    }\n",
       "\n",
       "    .dataframe thead th {\n",
       "        text-align: right;\n",
       "    }\n",
       "</style>\n",
       "<table border=\"1\" class=\"dataframe\">\n",
       "  <thead>\n",
       "    <tr style=\"text-align: right;\">\n",
       "      <th></th>\n",
       "      <th>Date received</th>\n",
       "      <th>Product</th>\n",
       "      <th>Sub-product</th>\n",
       "      <th>Issue</th>\n",
       "      <th>Sub-issue</th>\n",
       "      <th>Consumer complaint narrative</th>\n",
       "      <th>Company public response</th>\n",
       "      <th>Company</th>\n",
       "      <th>State</th>\n",
       "      <th>ZIP code</th>\n",
       "      <th>Tags</th>\n",
       "      <th>Consumer consent provided?</th>\n",
       "      <th>Submitted via</th>\n",
       "      <th>Date sent to company</th>\n",
       "      <th>Company response to consumer</th>\n",
       "      <th>Timely response?</th>\n",
       "      <th>Consumer disputed?</th>\n",
       "      <th>Complaint ID</th>\n",
       "    </tr>\n",
       "  </thead>\n",
       "  <tbody>\n",
       "    <tr>\n",
       "      <th>0</th>\n",
       "      <td>2014-05-15</td>\n",
       "      <td>Credit card</td>\n",
       "      <td>NaN</td>\n",
       "      <td>Billing statement</td>\n",
       "      <td>NaN</td>\n",
       "      <td>NaN</td>\n",
       "      <td>NaN</td>\n",
       "      <td>Wells Fargo &amp; Company</td>\n",
       "      <td>MI</td>\n",
       "      <td>48342</td>\n",
       "      <td>Older American</td>\n",
       "      <td>NaN</td>\n",
       "      <td>Web</td>\n",
       "      <td>2014-05-16</td>\n",
       "      <td>Closed with explanation</td>\n",
       "      <td>Yes</td>\n",
       "      <td>No</td>\n",
       "      <td>856103</td>\n",
       "    </tr>\n",
       "    <tr>\n",
       "      <th>1</th>\n",
       "      <td>2014-09-18</td>\n",
       "      <td>Bank account or service</td>\n",
       "      <td>(CD) Certificate of deposit</td>\n",
       "      <td>Making/receiving payments, sending money</td>\n",
       "      <td>NaN</td>\n",
       "      <td>NaN</td>\n",
       "      <td>NaN</td>\n",
       "      <td>Santander Bank US</td>\n",
       "      <td>PA</td>\n",
       "      <td>18042</td>\n",
       "      <td>NaN</td>\n",
       "      <td>NaN</td>\n",
       "      <td>Referral</td>\n",
       "      <td>2014-09-24</td>\n",
       "      <td>Closed</td>\n",
       "      <td>Yes</td>\n",
       "      <td>No</td>\n",
       "      <td>1034666</td>\n",
       "    </tr>\n",
       "    <tr>\n",
       "      <th>2</th>\n",
       "      <td>2014-03-13</td>\n",
       "      <td>Credit reporting</td>\n",
       "      <td>NaN</td>\n",
       "      <td>Incorrect information on credit report</td>\n",
       "      <td>Account status</td>\n",
       "      <td>NaN</td>\n",
       "      <td>NaN</td>\n",
       "      <td>Equifax</td>\n",
       "      <td>CA</td>\n",
       "      <td>92427</td>\n",
       "      <td>NaN</td>\n",
       "      <td>NaN</td>\n",
       "      <td>Referral</td>\n",
       "      <td>2014-04-03</td>\n",
       "      <td>Closed with non-monetary relief</td>\n",
       "      <td>Yes</td>\n",
       "      <td>No</td>\n",
       "      <td>756363</td>\n",
       "    </tr>\n",
       "    <tr>\n",
       "      <th>3</th>\n",
       "      <td>2015-07-17</td>\n",
       "      <td>Credit card</td>\n",
       "      <td>NaN</td>\n",
       "      <td>Billing statement</td>\n",
       "      <td>NaN</td>\n",
       "      <td>My credit card statement from US Bank, XXXX. X...</td>\n",
       "      <td>Company chooses not to provide a public response</td>\n",
       "      <td>U.S. Bancorp</td>\n",
       "      <td>GA</td>\n",
       "      <td>305XX</td>\n",
       "      <td>Older American</td>\n",
       "      <td>Consent provided</td>\n",
       "      <td>Web</td>\n",
       "      <td>2015-07-17</td>\n",
       "      <td>Closed with monetary relief</td>\n",
       "      <td>Yes</td>\n",
       "      <td>No</td>\n",
       "      <td>1474177</td>\n",
       "    </tr>\n",
       "    <tr>\n",
       "      <th>4</th>\n",
       "      <td>2014-11-20</td>\n",
       "      <td>Credit card</td>\n",
       "      <td>NaN</td>\n",
       "      <td>Transaction issue</td>\n",
       "      <td>NaN</td>\n",
       "      <td>NaN</td>\n",
       "      <td>NaN</td>\n",
       "      <td>Bank of America</td>\n",
       "      <td>MA</td>\n",
       "      <td>02127</td>\n",
       "      <td>NaN</td>\n",
       "      <td>NaN</td>\n",
       "      <td>Web</td>\n",
       "      <td>2014-11-28</td>\n",
       "      <td>Closed with explanation</td>\n",
       "      <td>Yes</td>\n",
       "      <td>No</td>\n",
       "      <td>1132572</td>\n",
       "    </tr>\n",
       "  </tbody>\n",
       "</table>\n",
       "</div>"
      ],
      "text/plain": [
       "  Date received                  Product                  Sub-product  \\\n",
       "0    2014-05-15              Credit card                          NaN   \n",
       "1    2014-09-18  Bank account or service  (CD) Certificate of deposit   \n",
       "2    2014-03-13         Credit reporting                          NaN   \n",
       "3    2015-07-17              Credit card                          NaN   \n",
       "4    2014-11-20              Credit card                          NaN   \n",
       "\n",
       "                                      Issue       Sub-issue  \\\n",
       "0                         Billing statement             NaN   \n",
       "1  Making/receiving payments, sending money             NaN   \n",
       "2    Incorrect information on credit report  Account status   \n",
       "3                         Billing statement             NaN   \n",
       "4                         Transaction issue             NaN   \n",
       "\n",
       "                        Consumer complaint narrative  \\\n",
       "0                                                NaN   \n",
       "1                                                NaN   \n",
       "2                                                NaN   \n",
       "3  My credit card statement from US Bank, XXXX. X...   \n",
       "4                                                NaN   \n",
       "\n",
       "                            Company public response                Company  \\\n",
       "0                                               NaN  Wells Fargo & Company   \n",
       "1                                               NaN      Santander Bank US   \n",
       "2                                               NaN                Equifax   \n",
       "3  Company chooses not to provide a public response           U.S. Bancorp   \n",
       "4                                               NaN        Bank of America   \n",
       "\n",
       "  State ZIP code            Tags Consumer consent provided? Submitted via  \\\n",
       "0    MI    48342  Older American                        NaN           Web   \n",
       "1    PA    18042             NaN                        NaN      Referral   \n",
       "2    CA    92427             NaN                        NaN      Referral   \n",
       "3    GA    305XX  Older American           Consent provided           Web   \n",
       "4    MA    02127             NaN                        NaN           Web   \n",
       "\n",
       "  Date sent to company     Company response to consumer Timely response?  \\\n",
       "0           2014-05-16          Closed with explanation              Yes   \n",
       "1           2014-09-24                           Closed              Yes   \n",
       "2           2014-04-03  Closed with non-monetary relief              Yes   \n",
       "3           2015-07-17      Closed with monetary relief              Yes   \n",
       "4           2014-11-28          Closed with explanation              Yes   \n",
       "\n",
       "  Consumer disputed?  Complaint ID  \n",
       "0                 No        856103  \n",
       "1                 No       1034666  \n",
       "2                 No        756363  \n",
       "3                 No       1474177  \n",
       "4                 No       1132572  "
      ]
     },
     "execution_count": 3,
     "metadata": {},
     "output_type": "execute_result"
    }
   ],
   "source": [
    "train_file.head()"
   ]
  },
  {
   "cell_type": "code",
   "execution_count": 4,
   "metadata": {
    "colab": {
     "base_uri": "https://localhost:8080/",
     "height": 534
    },
    "colab_type": "code",
    "id": "MkWRl3MtINoH",
    "outputId": "e3012d71-d186-419d-d6fa-56a614e88c70"
   },
   "outputs": [
    {
     "data": {
      "text/html": [
       "<div>\n",
       "<style scoped>\n",
       "    .dataframe tbody tr th:only-of-type {\n",
       "        vertical-align: middle;\n",
       "    }\n",
       "\n",
       "    .dataframe tbody tr th {\n",
       "        vertical-align: top;\n",
       "    }\n",
       "\n",
       "    .dataframe thead th {\n",
       "        text-align: right;\n",
       "    }\n",
       "</style>\n",
       "<table border=\"1\" class=\"dataframe\">\n",
       "  <thead>\n",
       "    <tr style=\"text-align: right;\">\n",
       "      <th></th>\n",
       "      <th>Date received</th>\n",
       "      <th>Product</th>\n",
       "      <th>Sub-product</th>\n",
       "      <th>Issue</th>\n",
       "      <th>Sub-issue</th>\n",
       "      <th>Consumer complaint narrative</th>\n",
       "      <th>Company public response</th>\n",
       "      <th>Company</th>\n",
       "      <th>State</th>\n",
       "      <th>ZIP code</th>\n",
       "      <th>Tags</th>\n",
       "      <th>Consumer consent provided?</th>\n",
       "      <th>Submitted via</th>\n",
       "      <th>Date sent to company</th>\n",
       "      <th>Company response to consumer</th>\n",
       "      <th>Timely response?</th>\n",
       "      <th>Complaint ID</th>\n",
       "    </tr>\n",
       "  </thead>\n",
       "  <tbody>\n",
       "    <tr>\n",
       "      <th>0</th>\n",
       "      <td>2014-01-18</td>\n",
       "      <td>Bank account or service</td>\n",
       "      <td>Cashing a check without an account</td>\n",
       "      <td>Deposits and withdrawals</td>\n",
       "      <td>NaN</td>\n",
       "      <td>NaN</td>\n",
       "      <td>NaN</td>\n",
       "      <td>Bank of America</td>\n",
       "      <td>CA</td>\n",
       "      <td>95691</td>\n",
       "      <td>NaN</td>\n",
       "      <td>NaN</td>\n",
       "      <td>Web</td>\n",
       "      <td>2014-01-17</td>\n",
       "      <td>Closed with explanation</td>\n",
       "      <td>Yes</td>\n",
       "      <td>675956</td>\n",
       "    </tr>\n",
       "    <tr>\n",
       "      <th>1</th>\n",
       "      <td>2016-03-31</td>\n",
       "      <td>Debt collection</td>\n",
       "      <td>Credit card</td>\n",
       "      <td>Cont'd attempts collect debt not owed</td>\n",
       "      <td>Debt was paid</td>\n",
       "      <td>NaN</td>\n",
       "      <td>NaN</td>\n",
       "      <td>National Credit Adjusters, LLC</td>\n",
       "      <td>FL</td>\n",
       "      <td>32086</td>\n",
       "      <td>NaN</td>\n",
       "      <td>Consent not provided</td>\n",
       "      <td>Web</td>\n",
       "      <td>2016-03-31</td>\n",
       "      <td>Closed with explanation</td>\n",
       "      <td>Yes</td>\n",
       "      <td>1858795</td>\n",
       "    </tr>\n",
       "    <tr>\n",
       "      <th>2</th>\n",
       "      <td>2012-03-08</td>\n",
       "      <td>Mortgage</td>\n",
       "      <td>Conventional adjustable mortgage (ARM)</td>\n",
       "      <td>Loan servicing, payments, escrow account</td>\n",
       "      <td>NaN</td>\n",
       "      <td>NaN</td>\n",
       "      <td>NaN</td>\n",
       "      <td>Wells Fargo &amp; Company</td>\n",
       "      <td>CA</td>\n",
       "      <td>94618</td>\n",
       "      <td>NaN</td>\n",
       "      <td>NaN</td>\n",
       "      <td>Web</td>\n",
       "      <td>2012-03-09</td>\n",
       "      <td>Closed without relief</td>\n",
       "      <td>Yes</td>\n",
       "      <td>32637</td>\n",
       "    </tr>\n",
       "    <tr>\n",
       "      <th>3</th>\n",
       "      <td>2016-01-07</td>\n",
       "      <td>Credit reporting</td>\n",
       "      <td>NaN</td>\n",
       "      <td>Unable to get credit report/credit score</td>\n",
       "      <td>Problem getting report or credit score</td>\n",
       "      <td>NaN</td>\n",
       "      <td>Company chooses not to provide a public response</td>\n",
       "      <td>TransUnion Intermediate Holdings, Inc.</td>\n",
       "      <td>FL</td>\n",
       "      <td>33584</td>\n",
       "      <td>Older American</td>\n",
       "      <td>NaN</td>\n",
       "      <td>Postal mail</td>\n",
       "      <td>2016-01-12</td>\n",
       "      <td>Closed with non-monetary relief</td>\n",
       "      <td>Yes</td>\n",
       "      <td>1731374</td>\n",
       "    </tr>\n",
       "    <tr>\n",
       "      <th>4</th>\n",
       "      <td>2013-08-23</td>\n",
       "      <td>Mortgage</td>\n",
       "      <td>FHA mortgage</td>\n",
       "      <td>Loan modification,collection,foreclosure</td>\n",
       "      <td>NaN</td>\n",
       "      <td>NaN</td>\n",
       "      <td>NaN</td>\n",
       "      <td>Bank of America</td>\n",
       "      <td>FL</td>\n",
       "      <td>33543</td>\n",
       "      <td>NaN</td>\n",
       "      <td>NaN</td>\n",
       "      <td>Web</td>\n",
       "      <td>2013-08-23</td>\n",
       "      <td>Closed with explanation</td>\n",
       "      <td>Yes</td>\n",
       "      <td>501487</td>\n",
       "    </tr>\n",
       "  </tbody>\n",
       "</table>\n",
       "</div>"
      ],
      "text/plain": [
       "  Date received                  Product  \\\n",
       "0    2014-01-18  Bank account or service   \n",
       "1    2016-03-31          Debt collection   \n",
       "2    2012-03-08                 Mortgage   \n",
       "3    2016-01-07         Credit reporting   \n",
       "4    2013-08-23                 Mortgage   \n",
       "\n",
       "                              Sub-product  \\\n",
       "0      Cashing a check without an account   \n",
       "1                             Credit card   \n",
       "2  Conventional adjustable mortgage (ARM)   \n",
       "3                                     NaN   \n",
       "4                            FHA mortgage   \n",
       "\n",
       "                                      Issue  \\\n",
       "0                  Deposits and withdrawals   \n",
       "1     Cont'd attempts collect debt not owed   \n",
       "2  Loan servicing, payments, escrow account   \n",
       "3  Unable to get credit report/credit score   \n",
       "4  Loan modification,collection,foreclosure   \n",
       "\n",
       "                                Sub-issue Consumer complaint narrative  \\\n",
       "0                                     NaN                          NaN   \n",
       "1                           Debt was paid                          NaN   \n",
       "2                                     NaN                          NaN   \n",
       "3  Problem getting report or credit score                          NaN   \n",
       "4                                     NaN                          NaN   \n",
       "\n",
       "                            Company public response  \\\n",
       "0                                               NaN   \n",
       "1                                               NaN   \n",
       "2                                               NaN   \n",
       "3  Company chooses not to provide a public response   \n",
       "4                                               NaN   \n",
       "\n",
       "                                  Company State ZIP code            Tags  \\\n",
       "0                         Bank of America    CA    95691             NaN   \n",
       "1          National Credit Adjusters, LLC    FL    32086             NaN   \n",
       "2                   Wells Fargo & Company    CA    94618             NaN   \n",
       "3  TransUnion Intermediate Holdings, Inc.    FL    33584  Older American   \n",
       "4                         Bank of America    FL    33543             NaN   \n",
       "\n",
       "  Consumer consent provided? Submitted via Date sent to company  \\\n",
       "0                        NaN           Web           2014-01-17   \n",
       "1       Consent not provided           Web           2016-03-31   \n",
       "2                        NaN           Web           2012-03-09   \n",
       "3                        NaN   Postal mail           2016-01-12   \n",
       "4                        NaN           Web           2013-08-23   \n",
       "\n",
       "      Company response to consumer Timely response?  Complaint ID  \n",
       "0          Closed with explanation              Yes        675956  \n",
       "1          Closed with explanation              Yes       1858795  \n",
       "2            Closed without relief              Yes         32637  \n",
       "3  Closed with non-monetary relief              Yes       1731374  \n",
       "4          Closed with explanation              Yes        501487  "
      ]
     },
     "execution_count": 4,
     "metadata": {},
     "output_type": "execute_result"
    }
   ],
   "source": [
    "test_file.head()"
   ]
  },
  {
   "cell_type": "code",
   "execution_count": 5,
   "metadata": {
    "colab": {
     "base_uri": "https://localhost:8080/",
     "height": 447
    },
    "colab_type": "code",
    "id": "_bj4VxrmeB2o",
    "outputId": "5f318f7a-4324-419a-a783-1e29bb64f72f"
   },
   "outputs": [
    {
     "name": "stdout",
     "output_type": "stream",
     "text": [
      "<class 'pandas.core.frame.DataFrame'>\n",
      "RangeIndex: 478421 entries, 0 to 478420\n",
      "Data columns (total 18 columns):\n",
      "Date received                   478421 non-null object\n",
      "Product                         478421 non-null object\n",
      "Sub-product                     339948 non-null object\n",
      "Issue                           478421 non-null object\n",
      "Sub-issue                       185796 non-null object\n",
      "Consumer complaint narrative    75094 non-null object\n",
      "Company public response         90392 non-null object\n",
      "Company                         478421 non-null object\n",
      "State                           474582 non-null object\n",
      "ZIP code                        474573 non-null object\n",
      "Tags                            67206 non-null object\n",
      "Consumer consent provided?      135487 non-null object\n",
      "Submitted via                   478421 non-null object\n",
      "Date sent to company            478421 non-null object\n",
      "Company response to consumer    478421 non-null object\n",
      "Timely response?                478421 non-null object\n",
      "Consumer disputed?              478421 non-null object\n",
      "Complaint ID                    478421 non-null int64\n",
      "dtypes: int64(1), object(17)\n",
      "memory usage: 65.7+ MB\n"
     ]
    }
   ],
   "source": [
    "train_file.info()"
   ]
  },
  {
   "cell_type": "markdown",
   "metadata": {
    "colab_type": "text",
    "id": "1v0rn2x_I4i4"
   },
   "source": [
    "Equalizing the columns of train and test file and combining both files into one for Data Preprocessing "
   ]
  },
  {
   "cell_type": "code",
   "execution_count": 6,
   "metadata": {
    "colab": {
     "base_uri": "https://localhost:8080/",
     "height": 36
    },
    "colab_type": "code",
    "id": "hGomsG_Te5_q",
    "outputId": "6dfb06f7-84fd-4353-ac70-24bf56fc9cd8"
   },
   "outputs": [
    {
     "data": {
      "text/plain": [
       "(598027, 19)"
      ]
     },
     "execution_count": 6,
     "metadata": {},
     "output_type": "execute_result"
    }
   ],
   "source": [
    "train_file['data'] = 'train'\n",
    "test_file['data'] = 'test'\n",
    "test_file['Consumer disputed?'] = np.nan\n",
    "\n",
    "file = pd.concat([train_file, test_file], axis=0)\n",
    "file.shape"
   ]
  },
  {
   "cell_type": "markdown",
   "metadata": {
    "colab_type": "text",
    "id": "ML1LpRI6ccqm"
   },
   "source": [
    "# Dealing with Missing Values"
   ]
  },
  {
   "cell_type": "code",
   "execution_count": 7,
   "metadata": {
    "colab": {
     "base_uri": "https://localhost:8080/",
     "height": 391
    },
    "colab_type": "code",
    "id": "QlzloZH9IuUN",
    "outputId": "f0eedc19-db0e-47e0-d569-25b13f84d1bd"
   },
   "outputs": [
    {
     "data": {
      "text/plain": [
       "Date received                        0\n",
       "Product                              0\n",
       "Sub-product                     138473\n",
       "Issue                                0\n",
       "Sub-issue                       292625\n",
       "Consumer complaint narrative    403327\n",
       "Company public response         388029\n",
       "Company                              0\n",
       "State                             3839\n",
       "ZIP code                          3848\n",
       "Tags                            411215\n",
       "Consumer consent provided?      342934\n",
       "Submitted via                        0\n",
       "Date sent to company                 0\n",
       "Company response to consumer         0\n",
       "Timely response?                     0\n",
       "Consumer disputed?                   0\n",
       "Complaint ID                         0\n",
       "data                                 0\n",
       "dtype: int64"
      ]
     },
     "execution_count": 7,
     "metadata": {},
     "output_type": "execute_result"
    }
   ],
   "source": [
    "train_file.isnull().sum()"
   ]
  },
  {
   "cell_type": "code",
   "execution_count": 8,
   "metadata": {
    "colab": {
     "base_uri": "https://localhost:8080/",
     "height": 391
    },
    "colab_type": "code",
    "id": "-hzqPvuJJF76",
    "outputId": "d2b99e14-591d-4c9e-f1a6-12abfd9d3924"
   },
   "outputs": [
    {
     "data": {
      "text/plain": [
       "Company                              0\n",
       "Company public response         484859\n",
       "Company response to consumer         0\n",
       "Complaint ID                         0\n",
       "Consumer complaint narrative    504376\n",
       "Consumer consent provided?      428676\n",
       "Consumer disputed?              119606\n",
       "Date received                        0\n",
       "Date sent to company                 0\n",
       "Issue                                0\n",
       "Product                              0\n",
       "State                             4764\n",
       "Sub-issue                       365685\n",
       "Sub-product                     173225\n",
       "Submitted via                        1\n",
       "Tags                            513950\n",
       "Timely response?                     0\n",
       "ZIP code                          4774\n",
       "data                                 0\n",
       "dtype: int64"
      ]
     },
     "execution_count": 8,
     "metadata": {},
     "output_type": "execute_result"
    }
   ],
   "source": [
    "file.isnull().sum()"
   ]
  },
  {
   "cell_type": "code",
   "execution_count": 9,
   "metadata": {
    "colab": {
     "base_uri": "https://localhost:8080/",
     "height": 655
    },
    "colab_type": "code",
    "id": "d4ibP1EmJgjE",
    "outputId": "22da8731-be5a-4362-dfbc-16628cdc2f7a"
   },
   "outputs": [
    {
     "data": {
      "image/png": "[encoded data removed]",
      "text/plain": [
       "<Figure size 864x576 with 1 Axes>"
      ]
     },
     "metadata": {
      "needs_background": "light"
     },
     "output_type": "display_data"
    }
   ],
   "source": [
    "fig, ax = plt.subplots(figsize = (12, 8))\n",
    "sns.heatmap(file.isna(),\n",
    "           cbar = False,\n",
    "           yticklabels = False,\n",
    "           cmap = 'summer')\n",
    "plt.show()"
   ]
  },
  {
   "cell_type": "markdown",
   "metadata": {
    "colab_type": "text",
    "id": "dSWsaNoYKEhS"
   },
   "source": [
    "Dropping unwanted columns or columns with large number of missing values.\n",
    "Here I have dropped the Consumer complaint narrative column as well,  because we have Issue and Sub Issue which can give us quite good information that people facing which issue are disputing with the company"
   ]
  },
  {
   "cell_type": "code",
   "execution_count": 10,
   "metadata": {
    "colab": {},
    "colab_type": "code",
    "id": "0-SfBvvLKVIc"
   },
   "outputs": [],
   "source": [
    "train_file.drop(columns=['Complaint ID', 'Consumer complaint narrative', 'Sub-issue', 'ZIP code'], inplace=True)\n",
    "file.drop(columns=['Complaint ID', 'Consumer complaint narrative', 'Sub-issue', 'ZIP code'], inplace=True)"
   ]
  },
  {
   "cell_type": "code",
   "execution_count": 11,
   "metadata": {
    "colab": {},
    "colab_type": "code",
    "id": "_363nXaMfBnL"
   },
   "outputs": [],
   "source": [
    "#Function to replace missing values\n",
    "\n",
    "def fill_missing(df):\n",
    "\n",
    "    #fill 'sub-product' with 'No sub-product'\n",
    "    df['Sub-product'].fillna('No Sub-product', inplace=True)\n",
    "\n",
    "    #fill 'State' with 'Unknown'\n",
    "    df['State'].fillna('Unknown', inplace=True)\n",
    "\n",
    "    # Combine \"company public missing value\" with \"Company chose not to provide\"\n",
    "    df['Company public response'].fillna('Company chooses not to provide',inplace=True)\n",
    "\n",
    "    #Combine missing value of \"Issue\" with \"Other\"\n",
    "    df['Issue'].fillna('Other',inplace=True)\n",
    "\n",
    "    # Replace missing vlaues of 'Tags' with 'Unknown'\n",
    "    df['Tags'].fillna('Unknown',inplace=True)\n",
    "\n",
    "    # Replace missing vlaues of 'Submitted via' with \"'other'\n",
    "    df['Submitted via'].fillna('Other',inplace=True)\n",
    "\n",
    "    #Combine missing value,other,and withdrawn of \"Consumer consent provided?\" column\n",
    "    #with Consumer consent not provided, since only users's complaints narrative will be provided\n",
    "    #with the type of \"Consumer consent provided\"\n",
    "\n",
    "    df['Consumer consent provided?'].fillna('Consent not provided',inplace=True)\n",
    "\n",
    "    "
   ]
  },
  {
   "cell_type": "code",
   "execution_count": 12,
   "metadata": {
    "colab": {},
    "colab_type": "code",
    "id": "WLBGrqYkfXpx"
   },
   "outputs": [],
   "source": [
    "fill_missing(train_file)\n",
    "fill_missing(file)"
   ]
  },
  {
   "cell_type": "code",
   "execution_count": 13,
   "metadata": {
    "colab": {},
    "colab_type": "code",
    "id": "uMP9rdIs0bwB"
   },
   "outputs": [],
   "source": [
    "#Replacing NaNs of other columns with forwardfill method\n",
    "file.fillna(method='ffill', inplace=True)\n",
    "train_file.fillna(method='ffill', inplace=True)"
   ]
  },
  {
   "cell_type": "code",
   "execution_count": 14,
   "metadata": {
    "colab": {
     "base_uri": "https://localhost:8080/",
     "height": 316
    },
    "colab_type": "code",
    "id": "mtaVQu3AfbX2",
    "outputId": "1342eea1-9252-4969-aa0b-96ae9e729edf"
   },
   "outputs": [
    {
     "data": {
      "text/plain": [
       "Date received                   0\n",
       "Product                         0\n",
       "Sub-product                     0\n",
       "Issue                           0\n",
       "Company public response         0\n",
       "Company                         0\n",
       "State                           0\n",
       "Tags                            0\n",
       "Consumer consent provided?      0\n",
       "Submitted via                   0\n",
       "Date sent to company            0\n",
       "Company response to consumer    0\n",
       "Timely response?                0\n",
       "Consumer disputed?              0\n",
       "data                            0\n",
       "dtype: int64"
      ]
     },
     "execution_count": 14,
     "metadata": {},
     "output_type": "execute_result"
    }
   ],
   "source": [
    "train_file.isnull().sum()"
   ]
  },
  {
   "cell_type": "code",
   "execution_count": 15,
   "metadata": {
    "colab": {
     "base_uri": "https://localhost:8080/",
     "height": 316
    },
    "colab_type": "code",
    "id": "O4LVaO0Yfer4",
    "outputId": "e2662612-0f1d-44e5-8c16-82be8de7b8fc"
   },
   "outputs": [
    {
     "data": {
      "text/plain": [
       "Company                         0\n",
       "Company public response         0\n",
       "Company response to consumer    0\n",
       "Consumer consent provided?      0\n",
       "Consumer disputed?              0\n",
       "Date received                   0\n",
       "Date sent to company            0\n",
       "Issue                           0\n",
       "Product                         0\n",
       "State                           0\n",
       "Sub-product                     0\n",
       "Submitted via                   0\n",
       "Tags                            0\n",
       "Timely response?                0\n",
       "data                            0\n",
       "dtype: int64"
      ]
     },
     "execution_count": 15,
     "metadata": {},
     "output_type": "execute_result"
    }
   ],
   "source": [
    "file.isnull().sum()"
   ]
  },
  {
   "cell_type": "code",
   "execution_count": 16,
   "metadata": {
    "colab": {
     "base_uri": "https://localhost:8080/",
     "height": 316
    },
    "colab_type": "code",
    "id": "Ia8artJrftXp",
    "outputId": "a7ac0da2-a096-45da-dca9-65fc8ec1b267"
   },
   "outputs": [
    {
     "data": {
      "text/plain": [
       "Date received                   1759\n",
       "Product                           12\n",
       "Sub-product                       48\n",
       "Issue                             95\n",
       "Company public response           11\n",
       "Company                         3276\n",
       "State                             63\n",
       "Tags                               4\n",
       "Consumer consent provided?         4\n",
       "Submitted via                      6\n",
       "Date sent to company            1706\n",
       "Company response to consumer       7\n",
       "Timely response?                   2\n",
       "Consumer disputed?                 2\n",
       "data                               1\n",
       "dtype: int64"
      ]
     },
     "execution_count": 16,
     "metadata": {},
     "output_type": "execute_result"
    }
   ],
   "source": [
    "train_file.nunique()"
   ]
  },
  {
   "cell_type": "markdown",
   "metadata": {
    "colab_type": "text",
    "id": "3wUMSLahfCSd"
   },
   "source": [
    "Replacing \"Yes/No\" values with 1/0"
   ]
  },
  {
   "cell_type": "code",
   "execution_count": 17,
   "metadata": {
    "colab": {},
    "colab_type": "code",
    "id": "ybQGHvFwfwpe"
   },
   "outputs": [],
   "source": [
    "replace = {'Yes' : 1, 'No' : 0}\n",
    "\n",
    "file['Timely response?'] = file['Timely response?'].apply(lambda x: replace[x])\n",
    "file['Consumer disputed?'] = file['Consumer disputed?'].apply(lambda x: replace[x])\n",
    "\n",
    "train_file['Timely response?'] = train_file['Timely response?'].apply(lambda x: replace[x])\n",
    "train_file['Consumer disputed?'] = train_file['Consumer disputed?'].apply(lambda x: replace[x])"
   ]
  },
  {
   "cell_type": "code",
   "execution_count": 18,
   "metadata": {
    "colab": {
     "base_uri": "https://localhost:8080/",
     "height": 73
    },
    "colab_type": "code",
    "id": "pmPcRHOhb5Iz",
    "outputId": "da47e16f-eb3e-409a-a713-0a96097dbe80"
   },
   "outputs": [
    {
     "data": {
      "text/plain": [
       "0    376990\n",
       "1    101431\n",
       "Name: Consumer disputed?, dtype: int64"
      ]
     },
     "execution_count": 18,
     "metadata": {},
     "output_type": "execute_result"
    }
   ],
   "source": [
    "#Target Variable\n",
    "train_file['Consumer disputed?'].value_counts()"
   ]
  },
  {
   "cell_type": "markdown",
   "metadata": {
    "colab_type": "text",
    "id": "W-qrubcz1GCA"
   },
   "source": [
    "# Exploratory Data Analysis\n"
   ]
  },
  {
   "cell_type": "code",
   "execution_count": 19,
   "metadata": {
    "colab": {
     "base_uri": "https://localhost:8080/",
     "height": 304
    },
    "colab_type": "code",
    "id": "WSup4rTd1FAe",
    "outputId": "8ad52aca-2b33-4ded-8cbf-fbd8c3a1edb6"
   },
   "outputs": [
    {
     "data": {
      "text/plain": [
       "<matplotlib.axes._subplots.AxesSubplot at 0x28e814abbe0>"
      ]
     },
     "execution_count": 19,
     "metadata": {},
     "output_type": "execute_result"
    },
    {
     "data": {
      "image/png": "[encoded data removed]",
      "text/plain": [
       "<Figure size 432x288 with 1 Axes>"
      ]
     },
     "metadata": {
      "needs_background": "light"
     },
     "output_type": "display_data"
    }
   ],
   "source": [
    "sns.countplot(train_file['Consumer disputed?'])"
   ]
  },
  {
   "cell_type": "markdown",
   "metadata": {
    "colab_type": "text",
    "id": "8Bew8pGCLPGe"
   },
   "source": [
    "Maybe it is an Imbalance dataset problem"
   ]
  },
  {
   "cell_type": "code",
   "execution_count": 20,
   "metadata": {
    "colab": {
     "base_uri": "https://localhost:8080/",
     "height": 304
    },
    "colab_type": "code",
    "id": "hlO4FzVI1Z75",
    "outputId": "aa316ef5-9104-44a0-f1d2-039065ddb0f3"
   },
   "outputs": [
    {
     "data": {
      "text/plain": [
       "<matplotlib.axes._subplots.AxesSubplot at 0x28e81e630b8>"
      ]
     },
     "execution_count": 20,
     "metadata": {},
     "output_type": "execute_result"
    },
    {
     "data": {
      "image/png": "[encoded data removed]",
      "text/plain": [
       "<Figure size 432x288 with 1 Axes>"
      ]
     },
     "metadata": {
      "needs_background": "light"
     },
     "output_type": "display_data"
    }
   ],
   "source": [
    "sns.countplot(train_file['Timely response?'])"
   ]
  },
  {
   "cell_type": "markdown",
   "metadata": {
    "colab_type": "text",
    "id": "vHQKlHVoLYrK"
   },
   "source": [
    "Almost every companies gives Timely Response to the Consumer"
   ]
  },
  {
   "cell_type": "markdown",
   "metadata": {
    "colab_type": "text",
    "id": "74oFSyCDfdlj"
   },
   "source": [
    "Checking which Product has the maximum complaints"
   ]
  },
  {
   "cell_type": "code",
   "execution_count": 21,
   "metadata": {
    "colab": {
     "base_uri": "https://localhost:8080/",
     "height": 447
    },
    "colab_type": "code",
    "id": "Vu-KkmNS3US5",
    "outputId": "9c75e764-ff2c-4718-c286-d7899d413738"
   },
   "outputs": [
    {
     "data": {
      "text/plain": [
       "(array([ 0,  1,  2,  3,  4,  5,  6,  7,  8,  9, 10, 11]),\n",
       " <a list of 12 Text xticklabel objects>)"
      ]
     },
     "execution_count": 21,
     "metadata": {},
     "output_type": "execute_result"
    },
    {
     "data": {
      "image/png": "[encoded data removed]",
      "text/plain": [
       "<Figure size 432x288 with 1 Axes>"
      ]
     },
     "metadata": {
      "needs_background": "light"
     },
     "output_type": "display_data"
    }
   ],
   "source": [
    "sns.countplot(train_file['Product'])\n",
    "plt.xticks(rotation=90)"
   ]
  },
  {
   "cell_type": "markdown",
   "metadata": {
    "colab_type": "text",
    "id": "HRXPkBZkfpAZ"
   },
   "source": [
    "Product **Mortgage** has the maximum complaints followed by Debt collection and Credict reporting, \n",
    "Checking what are the issues regarding these products"
   ]
  },
  {
   "cell_type": "markdown",
   "metadata": {
    "colab_type": "text",
    "id": "oKZ73uf9D4P_"
   },
   "source": [
    "1. Issues related to Mortgage"
   ]
  },
  {
   "cell_type": "code",
   "execution_count": 22,
   "metadata": {
    "colab": {
     "base_uri": "https://localhost:8080/",
     "height": 129
    },
    "colab_type": "code",
    "id": "LV-uY_R36Z7c",
    "outputId": "00b69670-4267-4a7f-d2ee-92411d49b474"
   },
   "outputs": [
    {
     "data": {
      "text/plain": [
       "{'Application, originator, mortgage broker',\n",
       " 'Credit decision / Underwriting',\n",
       " 'Loan modification,collection,foreclosure',\n",
       " 'Loan servicing, payments, escrow account',\n",
       " 'Other',\n",
       " 'Settlement process and costs'}"
      ]
     },
     "execution_count": 22,
     "metadata": {},
     "output_type": "execute_result"
    }
   ],
   "source": [
    "set(train_file['Issue'][train_file['Product'] == 'Mortgage'])"
   ]
  },
  {
   "cell_type": "code",
   "execution_count": 23,
   "metadata": {
    "colab": {
     "base_uri": "https://localhost:8080/",
     "height": 681
    },
    "colab_type": "code",
    "id": "lpd4kxmf6GfW",
    "outputId": "1763eecc-4ea9-49cd-fe09-ea62856a72fe"
   },
   "outputs": [
    {
     "data": {
      "image/png": "[encoded data removed]",
      "text/plain": [
       "<Figure size 432x288 with 1 Axes>"
      ]
     },
     "metadata": {
      "needs_background": "light"
     },
     "output_type": "display_data"
    }
   ],
   "source": [
    "sns.countplot(train_file['Issue'][train_file['Product'] == 'Mortgage'])\n",
    "plt.xticks(rotation=45)\n",
    "sns.set(rc={'figure.figsize':(15.7,8.27)})"
   ]
  },
  {
   "cell_type": "markdown",
   "metadata": {
    "colab_type": "text",
    "id": "kPyksVFIgCb4"
   },
   "source": [
    "**Loan modification, collection, foreclosure** is the major issue of the product Mortgage"
   ]
  },
  {
   "cell_type": "markdown",
   "metadata": {
    "colab_type": "text",
    "id": "Eut3deJ3gv1P"
   },
   "source": [
    "Checking the same for other products"
   ]
  },
  {
   "cell_type": "markdown",
   "metadata": {
    "colab_type": "text",
    "id": "c20_O1HzEAFR"
   },
   "source": [
    "2. Issues related to Debt collection"
   ]
  },
  {
   "cell_type": "code",
   "execution_count": 24,
   "metadata": {
    "colab": {
     "base_uri": "https://localhost:8080/",
     "height": 129
    },
    "colab_type": "code",
    "id": "0E0BSSkrh9Al",
    "outputId": "42cfca89-f658-4a7f-d428-1d403497c8a8"
   },
   "outputs": [
    {
     "data": {
      "text/plain": [
       "{'Communication tactics',\n",
       " \"Cont'd attempts collect debt not owed\",\n",
       " 'Disclosure verification of debt',\n",
       " 'False statements or representation',\n",
       " 'Improper contact or sharing of info',\n",
       " 'Taking/threatening an illegal action'}"
      ]
     },
     "execution_count": 24,
     "metadata": {},
     "output_type": "execute_result"
    }
   ],
   "source": [
    "set(train_file['Issue'][train_file['Product'] == 'Debt collection'])"
   ]
  },
  {
   "cell_type": "code",
   "execution_count": 25,
   "metadata": {
    "colab": {
     "base_uri": "https://localhost:8080/",
     "height": 665
    },
    "colab_type": "code",
    "id": "-tw6mNXl715H",
    "outputId": "2a0ab5a4-893c-4ab1-c28f-58f9e0c88078"
   },
   "outputs": [
    {
     "data": {
      "image/png": "[encoded data removed]",
      "text/plain": [
       "<Figure size 1130.4x595.44 with 1 Axes>"
      ]
     },
     "metadata": {},
     "output_type": "display_data"
    }
   ],
   "source": [
    "sns.countplot(train_file['Issue'][train_file['Product'] == 'Debt collection'])\n",
    "plt.xticks(rotation=45)\n",
    "sns.set(rc={'figure.figsize':(15.7,8.27)})"
   ]
  },
  {
   "cell_type": "markdown",
   "metadata": {
    "colab_type": "text",
    "id": "KR3PCfaoEId_"
   },
   "source": [
    "3. Issues related to Credit reporting"
   ]
  },
  {
   "cell_type": "code",
   "execution_count": 26,
   "metadata": {
    "colab": {
     "base_uri": "https://localhost:8080/",
     "height": 111
    },
    "colab_type": "code",
    "id": "DTo9FXIALu25",
    "outputId": "e195db5c-bc23-4e71-b7ae-efffa3483a54"
   },
   "outputs": [
    {
     "data": {
      "text/plain": [
       "{'Credit monitoring or identity protection',\n",
       " \"Credit reporting company's investigation\",\n",
       " 'Improper use of my credit report',\n",
       " 'Incorrect information on credit report',\n",
       " 'Unable to get credit report/credit score'}"
      ]
     },
     "execution_count": 26,
     "metadata": {},
     "output_type": "execute_result"
    }
   ],
   "source": [
    "set(train_file['Issue'][train_file['Product'] == 'Credit reporting'])"
   ]
  },
  {
   "cell_type": "code",
   "execution_count": 27,
   "metadata": {
    "colab": {
     "base_uri": "https://localhost:8080/",
     "height": 674
    },
    "colab_type": "code",
    "id": "xLqadBpx8RMd",
    "outputId": "cb04cd99-e376-47dc-f1de-f842a0559fba"
   },
   "outputs": [
    {
     "data": {
      "image/png": "[encoded data removed]",
      "text/plain": [
       "<Figure size 1130.4x595.44 with 1 Axes>"
      ]
     },
     "metadata": {},
     "output_type": "display_data"
    }
   ],
   "source": [
    "sns.countplot(train_file['Issue'][train_file['Product'] == 'Credit reporting'])\n",
    "plt.xticks(rotation=45)\n",
    "sns.set(rc={'figure.figsize':(15.7,8.27)})"
   ]
  },
  {
   "cell_type": "markdown",
   "metadata": {
    "colab_type": "text",
    "id": "WtnEEYPrENxX"
   },
   "source": [
    "4. Issues related to credit card"
   ]
  },
  {
   "cell_type": "code",
   "execution_count": 28,
   "metadata": {
    "colab": {
     "base_uri": "https://localhost:8080/",
     "height": 633
    },
    "colab_type": "code",
    "id": "AJqxZJLNXZRc",
    "outputId": "ba0c3c29-874e-4396-9d23-372f3cb1b331"
   },
   "outputs": [
    {
     "data": {
      "text/plain": [
       "{'APR or interest rate',\n",
       " 'Advertising and marketing',\n",
       " 'Application processing delay',\n",
       " 'Arbitration',\n",
       " 'Balance transfer',\n",
       " 'Balance transfer fee',\n",
       " 'Bankruptcy',\n",
       " 'Billing disputes',\n",
       " 'Billing statement',\n",
       " 'Cash advance',\n",
       " 'Cash advance fee',\n",
       " 'Closing/Cancelling account',\n",
       " 'Collection debt dispute',\n",
       " 'Collection practices',\n",
       " 'Convenience checks',\n",
       " 'Credit card protection / Debt protection',\n",
       " 'Credit determination',\n",
       " 'Credit line increase/decrease',\n",
       " 'Credit reporting',\n",
       " 'Customer service / Customer relations',\n",
       " 'Delinquent account',\n",
       " 'Forbearance / Workout plans',\n",
       " 'Identity theft / Fraud / Embezzlement',\n",
       " 'Late fee',\n",
       " 'Other',\n",
       " 'Other fee',\n",
       " 'Overlimit fee',\n",
       " 'Payoff process',\n",
       " 'Privacy',\n",
       " 'Rewards',\n",
       " 'Sale of account',\n",
       " 'Transaction issue',\n",
       " 'Unsolicited issuance of credit card'}"
      ]
     },
     "execution_count": 28,
     "metadata": {},
     "output_type": "execute_result"
    }
   ],
   "source": [
    "set(train_file['Issue'][train_file['Product'] == 'Credit card'])"
   ]
  },
  {
   "cell_type": "markdown",
   "metadata": {
    "colab_type": "text",
    "id": "GzCmkKktMDtk"
   },
   "source": [
    "There are many issues for these product"
   ]
  },
  {
   "cell_type": "code",
   "execution_count": 29,
   "metadata": {
    "colab": {
     "base_uri": "https://localhost:8080/",
     "height": 727
    },
    "colab_type": "code",
    "id": "yLe3nTQFWicP",
    "outputId": "de35d1fd-8ba1-4afc-e16f-6cf81754b051"
   },
   "outputs": [
    {
     "data": {
      "image/png": "[encoded data removed]",
      "text/plain": [
       "<Figure size 1130.4x595.44 with 1 Axes>"
      ]
     },
     "metadata": {},
     "output_type": "display_data"
    }
   ],
   "source": [
    "sns.countplot(train_file['Issue'][train_file['Product'] == 'Credit card'])\n",
    "plt.xticks(rotation=90)\n",
    "sns.set(rc={'figure.figsize':(20.7,8.27)})"
   ]
  },
  {
   "cell_type": "markdown",
   "metadata": {
    "colab_type": "text",
    "id": "8qNsR8wyEXJv"
   },
   "source": [
    "5. Issues related to Bank account or service"
   ]
  },
  {
   "cell_type": "code",
   "execution_count": 30,
   "metadata": {
    "colab": {
     "base_uri": "https://localhost:8080/",
     "height": 111
    },
    "colab_type": "code",
    "id": "wJpIrEHTMMST",
    "outputId": "01553993-2445-4ef1-a8d6-3d6f4a527228"
   },
   "outputs": [
    {
     "data": {
      "text/plain": [
       "{'Account opening, closing, or management',\n",
       " 'Deposits and withdrawals',\n",
       " 'Making/receiving payments, sending money',\n",
       " 'Problems caused by my funds being low',\n",
       " 'Using a debit or ATM card'}"
      ]
     },
     "execution_count": 30,
     "metadata": {},
     "output_type": "execute_result"
    }
   ],
   "source": [
    "set(train_file['Issue'][train_file['Product'] == 'Bank account or service'])"
   ]
  },
  {
   "cell_type": "code",
   "execution_count": 31,
   "metadata": {
    "colab": {
     "base_uri": "https://localhost:8080/",
     "height": 672
    },
    "colab_type": "code",
    "id": "B813hcneXsS8",
    "outputId": "feb1b625-5de5-4df7-90ac-f1e86e163785"
   },
   "outputs": [
    {
     "data": {
      "image/png": "[encoded data removed]",
      "text/plain": [
       "<Figure size 1490.4x595.44 with 1 Axes>"
      ]
     },
     "metadata": {},
     "output_type": "display_data"
    }
   ],
   "source": [
    "sns.countplot(train_file['Issue'][train_file['Product'] == 'Bank account or service'])\n",
    "plt.xticks(rotation=40)\n",
    "sns.set(rc={'figure.figsize':(12.7,8.27)})"
   ]
  },
  {
   "cell_type": "markdown",
   "metadata": {
    "colab_type": "text",
    "id": "9-483tjFEgfg"
   },
   "source": [
    "6. Issues related to Consumer Loan"
   ]
  },
  {
   "cell_type": "code",
   "execution_count": 32,
   "metadata": {
    "colab": {
     "base_uri": "https://localhost:8080/",
     "height": 353
    },
    "colab_type": "code",
    "id": "PTIloc6TMUTc",
    "outputId": "d2aa19e2-134b-4437-8c68-053f8a766abf"
   },
   "outputs": [
    {
     "data": {
      "text/plain": [
       "{'Account terms and changes',\n",
       " 'Applied for loan/did not receive money',\n",
       " \"Can't contact lender\",\n",
       " \"Can't stop charges to bank account\",\n",
       " 'Charged bank acct wrong day or amt',\n",
       " \"Charged fees or interest I didn't expect\",\n",
       " 'Lender damaged or destroyed property',\n",
       " 'Lender damaged or destroyed vehicle',\n",
       " 'Lender repossessed or sold the vehicle',\n",
       " 'Lender sold the property',\n",
       " 'Managing the line of credit',\n",
       " 'Managing the loan or lease',\n",
       " 'Payment to acct not credited',\n",
       " 'Problems when you are unable to pay',\n",
       " \"Received a loan I didn't apply for\",\n",
       " 'Shopping for a line of credit',\n",
       " 'Shopping for a loan or lease',\n",
       " 'Taking out the loan or lease'}"
      ]
     },
     "execution_count": 32,
     "metadata": {},
     "output_type": "execute_result"
    }
   ],
   "source": [
    "set(train_file['Issue'][train_file['Product'] == 'Consumer Loan'])"
   ]
  },
  {
   "cell_type": "code",
   "execution_count": 33,
   "metadata": {
    "colab": {
     "base_uri": "https://localhost:8080/",
     "height": 726
    },
    "colab_type": "code",
    "id": "f4rdGfA8YLoN",
    "outputId": "fe013dfa-e6af-4b9d-9188-46c28dbfcc3f"
   },
   "outputs": [
    {
     "data": {
      "image/png": "[encoded data removed]",
      "text/plain": [
       "<Figure size 914.4x595.44 with 1 Axes>"
      ]
     },
     "metadata": {},
     "output_type": "display_data"
    }
   ],
   "source": [
    "sns.countplot(train_file['Issue'][train_file['Product'] == 'Consumer Loan'])\n",
    "plt.xticks(rotation=90)\n",
    "sns.set(rc={'figure.figsize':(20.7,8.27)})"
   ]
  },
  {
   "cell_type": "markdown",
   "metadata": {
    "colab_type": "text",
    "id": "XCw5XneeEkvl"
   },
   "source": [
    "7. Issues related to Student loan"
   ]
  },
  {
   "cell_type": "code",
   "execution_count": 34,
   "metadata": {
    "colab": {
     "base_uri": "https://localhost:8080/",
     "height": 111
    },
    "colab_type": "code",
    "id": "j53s4eEJMZJz",
    "outputId": "ac5e45a1-783f-4e08-a33a-c9cbfc4b1823"
   },
   "outputs": [
    {
     "data": {
      "text/plain": [
       "{\"Can't repay my loan\",\n",
       " 'Dealing with my lender or servicer',\n",
       " 'Getting a loan',\n",
       " 'Problems when you are unable to pay',\n",
       " 'Repaying your loan'}"
      ]
     },
     "execution_count": 34,
     "metadata": {},
     "output_type": "execute_result"
    }
   ],
   "source": [
    "set(train_file['Issue'][train_file['Product'] == 'Student loan'])"
   ]
  },
  {
   "cell_type": "code",
   "execution_count": 35,
   "metadata": {
    "colab": {
     "base_uri": "https://localhost:8080/",
     "height": 662
    },
    "colab_type": "code",
    "id": "wsS6chXhYvFg",
    "outputId": "efaa3238-5aaf-4579-e3c5-a8dc719c8cab"
   },
   "outputs": [
    {
     "data": {
      "image/png": "[encoded data removed]",
      "text/plain": [
       "<Figure size 1490.4x595.44 with 1 Axes>"
      ]
     },
     "metadata": {},
     "output_type": "display_data"
    }
   ],
   "source": [
    "sns.countplot(train_file['Issue'][train_file['Product'] == 'Student loan'])\n",
    "plt.xticks(rotation=45)\n",
    "sns.set(rc={'figure.figsize':(12.7,8.27)})"
   ]
  },
  {
   "cell_type": "markdown",
   "metadata": {
    "colab_type": "text",
    "id": "z2ubXELrOs_H"
   },
   "source": [
    "I thought to make new features from Issue column by selecting the top 2 major issues for every product and making dummies, I had not implemented this because i don't know it will work or not so please help me with this"
   ]
  },
  {
   "cell_type": "markdown",
   "metadata": {
    "colab_type": "text",
    "id": "Tc1kIYwUi72D"
   },
   "source": [
    "Checking for Top 10 companies having maximum complaints of consumers"
   ]
  },
  {
   "cell_type": "code",
   "execution_count": 36,
   "metadata": {
    "colab": {
     "base_uri": "https://localhost:8080/",
     "height": 650
    },
    "colab_type": "code",
    "id": "4R-R9SX59Dhn",
    "outputId": "481f6173-d9d7-4219-b63d-2b497048d16e"
   },
   "outputs": [
    {
     "data": {
      "image/png": "[encoded data removed]",
      "text/plain": [
       "<Figure size 914.4x595.44 with 1 Axes>"
      ]
     },
     "metadata": {},
     "output_type": "display_data"
    }
   ],
   "source": [
    "sns.barplot(x=train_file['Company'].value_counts().index[:10], y=train_file['Company'].value_counts()[:10])\n",
    "plt.xticks(rotation=45)\n",
    "sns.set(rc={'figure.figsize':(15.7,8.27)})"
   ]
  },
  {
   "cell_type": "code",
   "execution_count": 37,
   "metadata": {
    "colab": {
     "base_uri": "https://localhost:8080/",
     "height": 223
    },
    "colab_type": "code",
    "id": "TsQUYzWaMmwc",
    "outputId": "a438bc97-b5b2-4dc3-8e50-4cbe64587980"
   },
   "outputs": [
    {
     "data": {
      "text/plain": [
       "Bank of America                           46336\n",
       "Wells Fargo & Company                     35453\n",
       "JPMorgan Chase & Co.                      28852\n",
       "Equifax                                   28832\n",
       "Experian                                  26794\n",
       "TransUnion Intermediate Holdings, Inc.    22508\n",
       "Citibank                                  22300\n",
       "Ocwen                                     17475\n",
       "Capital One                               13396\n",
       "Nationstar Mortgage                       11278\n",
       "Name: Company, dtype: int64"
      ]
     },
     "execution_count": 37,
     "metadata": {},
     "output_type": "execute_result"
    }
   ],
   "source": [
    "train_file['Company'].value_counts()[:10]"
   ]
  },
  {
   "cell_type": "markdown",
   "metadata": {
    "colab_type": "text",
    "id": "RiX0inRNjElE"
   },
   "source": [
    "Maybe we can consider only these companies as Top 10 worst companies and make dummies"
   ]
  },
  {
   "cell_type": "code",
   "execution_count": 38,
   "metadata": {
    "colab": {},
    "colab_type": "code",
    "id": "VrqD14qBmR3r"
   },
   "outputs": [],
   "source": [
    "file['Bank of America'] = (file['Company'] == 'Bank of America').astype(int)\n",
    "file['Wells Fargo & Company'] = (file['Company'] == 'Bank of America').astype(int)\n",
    "file['JPMorgan Chase & Co.'] = (file['Company'] == 'JPMorgan Chase & Co.').astype(int)\n",
    "file['Equifax'] = (file['Company'] == 'Equifax').astype(int)\n",
    "file['Experian'] = (file['Company'] == 'Experian').astype(int)\n",
    "file['TransUnion Intermediate Holdings, Inc.'] = (file['Company'] == 'TransUnion Intermediate Holdings, Inc.').astype(int)\n",
    "file['Citibank'] = (file['Company'] == 'Citibank').astype(int)\n",
    "file['Ocwen'] = (file['Company'] == 'Ocwen').astype(int)\n",
    "file['Capital One'] = (file['Company'] == 'Capital One').astype(int)\n",
    "file['Nationstar Mortgage'] = (file['Company'] == 'Nationstar Mortgage').astype(int)"
   ]
  },
  {
   "cell_type": "code",
   "execution_count": 39,
   "metadata": {
    "colab": {
     "base_uri": "https://localhost:8080/",
     "height": 167
    },
    "colab_type": "code",
    "id": "vHW9Lu9hNNY-",
    "outputId": "db3dba69-a25e-49be-d5b2-9d51dcb46556"
   },
   "outputs": [
    {
     "data": {
      "text/plain": [
       "Index(['Company', 'Company public response', 'Company response to consumer',\n",
       "       'Consumer consent provided?', 'Consumer disputed?', 'Date received',\n",
       "       'Date sent to company', 'Issue', 'Product', 'State', 'Sub-product',\n",
       "       'Submitted via', 'Tags', 'Timely response?', 'data', 'Bank of America',\n",
       "       'Wells Fargo & Company', 'JPMorgan Chase & Co.', 'Equifax', 'Experian',\n",
       "       'TransUnion Intermediate Holdings, Inc.', 'Citibank', 'Ocwen',\n",
       "       'Capital One', 'Nationstar Mortgage'],\n",
       "      dtype='object')"
      ]
     },
     "execution_count": 39,
     "metadata": {},
     "output_type": "execute_result"
    }
   ],
   "source": [
    "file.columns"
   ]
  },
  {
   "cell_type": "markdown",
   "metadata": {
    "colab_type": "text",
    "id": "n3FtUBxPE02_"
   },
   "source": [
    "Checking complaint submission methods"
   ]
  },
  {
   "cell_type": "code",
   "execution_count": 40,
   "metadata": {
    "colab": {
     "base_uri": "https://localhost:8080/",
     "height": 536
    },
    "colab_type": "code",
    "id": "nAm0YtFvnlJk",
    "outputId": "87000547-0155-4f43-a669-38ffb5ffce8e"
   },
   "outputs": [
    {
     "data": {
      "text/plain": [
       "<matplotlib.axes._subplots.AxesSubplot at 0x28e84238940>"
      ]
     },
     "execution_count": 40,
     "metadata": {},
     "output_type": "execute_result"
    },
    {
     "data": {
      "image/png": "[encoded data removed]",
      "text/plain": [
       "<Figure size 1130.4x595.44 with 1 Axes>"
      ]
     },
     "metadata": {},
     "output_type": "display_data"
    }
   ],
   "source": [
    "sns.countplot(train_file['Submitted via'])"
   ]
  },
  {
   "cell_type": "markdown",
   "metadata": {
    "colab_type": "text",
    "id": "Jwaiecuvnvt3"
   },
   "source": [
    "Most of the complaints are submitted via Web"
   ]
  },
  {
   "cell_type": "markdown",
   "metadata": {
    "colab_type": "text",
    "id": "YphNctUxkFYp"
   },
   "source": [
    "# Feature Encoding \n",
    "\n",
    "I have done Feature Encoding on the combined file having train and test data"
   ]
  },
  {
   "cell_type": "code",
   "execution_count": 41,
   "metadata": {
    "colab": {
     "base_uri": "https://localhost:8080/",
     "height": 92
    },
    "colab_type": "code",
    "id": "QQ5u0fBrjctt",
    "outputId": "bd4ef07c-cfb3-44c1-98ca-86a791dcfdf7"
   },
   "outputs": [
    {
     "data": {
      "text/plain": [
       "array(['Closed with explanation', 'Closed',\n",
       "       'Closed with non-monetary relief', 'Closed with monetary relief',\n",
       "       'Closed with relief', 'Closed without relief', 'Untimely response'],\n",
       "      dtype=object)"
      ]
     },
     "execution_count": 41,
     "metadata": {},
     "output_type": "execute_result"
    }
   ],
   "source": [
    "train_file['Company response to consumer'].unique()"
   ]
  },
  {
   "cell_type": "code",
   "execution_count": 42,
   "metadata": {
    "colab": {
     "base_uri": "https://localhost:8080/",
     "height": 294
    },
    "colab_type": "code",
    "id": "fdrzwf_XC6sm",
    "outputId": "6fa89c45-a6ed-4254-8ce7-c8bc31026424"
   },
   "outputs": [
    {
     "data": {
      "text/html": [
       "<div>\n",
       "<style scoped>\n",
       "    .dataframe tbody tr th:only-of-type {\n",
       "        vertical-align: middle;\n",
       "    }\n",
       "\n",
       "    .dataframe tbody tr th {\n",
       "        vertical-align: top;\n",
       "    }\n",
       "\n",
       "    .dataframe thead th {\n",
       "        text-align: right;\n",
       "    }\n",
       "</style>\n",
       "<table border=\"1\" class=\"dataframe\">\n",
       "  <thead>\n",
       "    <tr style=\"text-align: right;\">\n",
       "      <th>Consumer disputed?</th>\n",
       "      <th>0</th>\n",
       "      <th>1</th>\n",
       "    </tr>\n",
       "    <tr>\n",
       "      <th>Company response to consumer</th>\n",
       "      <th></th>\n",
       "      <th></th>\n",
       "    </tr>\n",
       "  </thead>\n",
       "  <tbody>\n",
       "    <tr>\n",
       "      <th>Closed</th>\n",
       "      <td>0.78</td>\n",
       "      <td>0.22</td>\n",
       "    </tr>\n",
       "    <tr>\n",
       "      <th>Closed with explanation</th>\n",
       "      <td>0.77</td>\n",
       "      <td>0.23</td>\n",
       "    </tr>\n",
       "    <tr>\n",
       "      <th>Closed with monetary relief</th>\n",
       "      <td>0.89</td>\n",
       "      <td>0.11</td>\n",
       "    </tr>\n",
       "    <tr>\n",
       "      <th>Closed with non-monetary relief</th>\n",
       "      <td>0.87</td>\n",
       "      <td>0.13</td>\n",
       "    </tr>\n",
       "    <tr>\n",
       "      <th>Closed with relief</th>\n",
       "      <td>0.87</td>\n",
       "      <td>0.13</td>\n",
       "    </tr>\n",
       "    <tr>\n",
       "      <th>Closed without relief</th>\n",
       "      <td>0.73</td>\n",
       "      <td>0.27</td>\n",
       "    </tr>\n",
       "    <tr>\n",
       "      <th>Untimely response</th>\n",
       "      <td>0.00</td>\n",
       "      <td>1.00</td>\n",
       "    </tr>\n",
       "  </tbody>\n",
       "</table>\n",
       "</div>"
      ],
      "text/plain": [
       "Consumer disputed?                  0     1\n",
       "Company response to consumer               \n",
       "Closed                           0.78  0.22\n",
       "Closed with explanation          0.77  0.23\n",
       "Closed with monetary relief      0.89  0.11\n",
       "Closed with non-monetary relief  0.87  0.13\n",
       "Closed with relief               0.87  0.13\n",
       "Closed without relief            0.73  0.27\n",
       "Untimely response                0.00  1.00"
      ]
     },
     "execution_count": 42,
     "metadata": {},
     "output_type": "execute_result"
    }
   ],
   "source": [
    "pd.crosstab(train_file['Company response to consumer'], train_file['Consumer disputed?'], normalize='index').round(2)"
   ]
  },
  {
   "cell_type": "code",
   "execution_count": 43,
   "metadata": {
    "colab": {},
    "colab_type": "code",
    "id": "UItxlZVPDmeq"
   },
   "outputs": [],
   "source": [
    "replace = {'Closed':'0', 'Untimely response':'0','Closed without relief':'0', \n",
    "    'Closed with explanation':'1', 'Closed with non-monetary relief':'2',\n",
    "    'Closed with relief': '2', 'Closed with monetary relief':'2'}\n",
    "\n",
    "file['Company response to consumer'] = train_file['Company response to consumer'].apply(lambda x: replace[x])"
   ]
  },
  {
   "cell_type": "code",
   "execution_count": 44,
   "metadata": {
    "colab": {
     "base_uri": "https://localhost:8080/",
     "height": 202
    },
    "colab_type": "code",
    "id": "wLGGLp0wFhSZ",
    "outputId": "0d5838ef-7e11-4f85-da12-8d48804122d6"
   },
   "outputs": [
    {
     "data": {
      "text/html": [
       "<div>\n",
       "<style scoped>\n",
       "    .dataframe tbody tr th:only-of-type {\n",
       "        vertical-align: middle;\n",
       "    }\n",
       "\n",
       "    .dataframe tbody tr th {\n",
       "        vertical-align: top;\n",
       "    }\n",
       "\n",
       "    .dataframe thead th {\n",
       "        text-align: right;\n",
       "    }\n",
       "</style>\n",
       "<table border=\"1\" class=\"dataframe\">\n",
       "  <thead>\n",
       "    <tr style=\"text-align: right;\">\n",
       "      <th>Consumer disputed?</th>\n",
       "      <th>0</th>\n",
       "      <th>1</th>\n",
       "    </tr>\n",
       "    <tr>\n",
       "      <th>Consumer consent provided?</th>\n",
       "      <th></th>\n",
       "      <th></th>\n",
       "    </tr>\n",
       "  </thead>\n",
       "  <tbody>\n",
       "    <tr>\n",
       "      <th>Consent not provided</th>\n",
       "      <td>317520</td>\n",
       "      <td>81561</td>\n",
       "    </tr>\n",
       "    <tr>\n",
       "      <th>Consent provided</th>\n",
       "      <td>56280</td>\n",
       "      <td>18815</td>\n",
       "    </tr>\n",
       "    <tr>\n",
       "      <th>Consent withdrawn</th>\n",
       "      <td>2</td>\n",
       "      <td>1</td>\n",
       "    </tr>\n",
       "    <tr>\n",
       "      <th>Other</th>\n",
       "      <td>3188</td>\n",
       "      <td>1054</td>\n",
       "    </tr>\n",
       "  </tbody>\n",
       "</table>\n",
       "</div>"
      ],
      "text/plain": [
       "Consumer disputed?               0      1\n",
       "Consumer consent provided?               \n",
       "Consent not provided        317520  81561\n",
       "Consent provided             56280  18815\n",
       "Consent withdrawn                2      1\n",
       "Other                         3188   1054"
      ]
     },
     "execution_count": 44,
     "metadata": {},
     "output_type": "execute_result"
    }
   ],
   "source": [
    "pd.crosstab(train_file['Consumer consent provided?'], train_file['Consumer disputed?'])"
   ]
  },
  {
   "cell_type": "code",
   "execution_count": 45,
   "metadata": {
    "colab": {},
    "colab_type": "code",
    "id": "0NvF8gG5F7XS"
   },
   "outputs": [],
   "source": [
    "replace = {'Consent not provided': 0, 'Consent withdrawn': 0, 'Other': 0, 'Consent provided': 1}\n",
    "file['Consumer consent provided?'] = train_file['Consumer consent provided?'].apply(lambda x: replace[x])"
   ]
  },
  {
   "cell_type": "code",
   "execution_count": 46,
   "metadata": {
    "colab": {
     "base_uri": "https://localhost:8080/",
     "height": 260
    },
    "colab_type": "code",
    "id": "B0rpKXJkvPOP",
    "outputId": "86f5a4ae-53bc-454c-8156-719583e6bc7b"
   },
   "outputs": [
    {
     "data": {
      "text/plain": [
       "array(['Company chooses not to provide',\n",
       "       'Company chooses not to provide a public response',\n",
       "       'Company has responded to the consumer and the CFPB and chooses not to provide a public response',\n",
       "       'Company believes it acted appropriately as authorized by contract or law',\n",
       "       'Company believes complaint caused principally by actions of third party outside the control or direction of the company',\n",
       "       'Company believes the complaint is the result of a misunderstanding',\n",
       "       'Company disputes the facts presented in the complaint',\n",
       "       \"Company can't verify or dispute the facts in the complaint\",\n",
       "       'Company believes complaint is the result of an isolated error',\n",
       "       'Company believes complaint represents an opportunity for improvement to better serve consumers',\n",
       "       'Company believes complaint relates to a discontinued policy or procedure'],\n",
       "      dtype=object)"
      ]
     },
     "execution_count": 46,
     "metadata": {},
     "output_type": "execute_result"
    }
   ],
   "source": [
    "file['Company public response'].unique()"
   ]
  },
  {
   "cell_type": "code",
   "execution_count": 47,
   "metadata": {
    "colab": {},
    "colab_type": "code",
    "id": "8OlQQ_wUmlj_"
   },
   "outputs": [],
   "source": [
    "#Encoding Company public response column\n",
    "#I have grouped some of the values\n",
    "\n",
    "file['Company public response'] = file['Company public response'].map( {\n",
    "    \"Company chooses not to provide\" : '0',\n",
    "    \"Company chooses not to provide a public response\" : '0',\n",
    "    \"Company has responded to the consumer and the CFPB and chooses not to provide a pu\" : '0',\n",
    "    \"Company has responded to the consumer and the CFPB and chooses not to provide a public response\" : '0',\n",
    "    \"Company believes it acted appropriately as authorized by contract or law\" : '1',\n",
    "    \"Company believes complaint caused principally by actions of third party outside the control or direction of the company\" : '2',\n",
    "    \"Company believes the complaint is the result of a misunderstanding\" : '3',\n",
    "    \"Company disputes the facts presented in the complaint\" : '4',\n",
    "    \"Company believes complaint is the result of an isolated error\" : '5',\n",
    "    \"Company can't verify or dispute the facts in the complaint\" : '6',\n",
    "    \"Company believes complaint represents an opportunity for improvement to better serve consumers\" : '7',\n",
    "    \"Company believes complaint relates to a discontinued policy or procedure\" : '8'\n",
    "} )"
   ]
  },
  {
   "cell_type": "code",
   "execution_count": 48,
   "metadata": {
    "colab": {
     "base_uri": "https://localhost:8080/",
     "height": 36
    },
    "colab_type": "code",
    "id": "geUm4dbtqoKr",
    "outputId": "b7070efd-c270-48fd-a897-cefe1a327b41"
   },
   "outputs": [
    {
     "data": {
      "text/plain": [
       "array(['0', '1', '2', '3', '4', '6', '5', '7', '8'], dtype=object)"
      ]
     },
     "execution_count": 48,
     "metadata": {},
     "output_type": "execute_result"
    }
   ],
   "source": [
    "file['Company public response'].unique()"
   ]
  },
  {
   "cell_type": "code",
   "execution_count": null,
   "metadata": {
    "colab": {
     "base_uri": "https://localhost:8080/",
     "height": 446
    },
    "colab_type": "code",
    "id": "dp6K4PhKKeWB",
    "outputId": "f5589c51-f0db-4faf-f9a8-1062ad460173"
   },
   "outputs": [],
   "source": [
    "pd.crosstab(train_file['State'], train_file['Consumer disputed?'], normalize='index').round(2)"
   ]
  },
  {
   "cell_type": "markdown",
   "metadata": {
    "colab_type": "text",
    "id": "a3UbDMD-k557"
   },
   "source": [
    "States can be grouped having same proportion of Consumer Disputes and then dummies can be created "
   ]
  },
  {
   "cell_type": "markdown",
   "metadata": {
    "colab_type": "text",
    "id": "LctZYBYRlTPW"
   },
   "source": [
    "Making a new feature from company column by calulating the complaint counts of each company, if we do so maybe we can drop company column and the dummies we created for top 10 worst companies. \n"
   ]
  },
  {
   "cell_type": "code",
   "execution_count": 50,
   "metadata": {
    "colab": {},
    "colab_type": "code",
    "id": "QGKv2UQCgf-G"
   },
   "outputs": [],
   "source": [
    "company_complaints_counts = file['Company'].value_counts()\n",
    "file['company_complaint_counts'] = file['Company'].apply(lambda x: company_complaints_counts[x])"
   ]
  },
  {
   "cell_type": "markdown",
   "metadata": {
    "colab_type": "text",
    "id": "F7Cgdssaljp6"
   },
   "source": [
    "Extracting useful information from Date columns"
   ]
  },
  {
   "cell_type": "code",
   "execution_count": 51,
   "metadata": {
    "colab": {},
    "colab_type": "code",
    "id": "DVzCCYdNgpXU"
   },
   "outputs": [],
   "source": [
    "#First convert into Datetime type\n",
    "file['Date received'] = pd.to_datetime(file['Date received'])\n",
    "file['Date sent to company'] = pd.to_datetime(file['Date sent to company'])"
   ]
  },
  {
   "cell_type": "code",
   "execution_count": 52,
   "metadata": {
    "colab": {},
    "colab_type": "code",
    "id": "L8kX90PmjCyp"
   },
   "outputs": [],
   "source": [
    "file['Date_Sent_Day'] = file['Date sent to company'].apply(lambda x: x.day)\n",
    "file['Date_Received_Day'] = file['Date received'].apply(lambda x: x.day)"
   ]
  },
  {
   "cell_type": "code",
   "execution_count": 53,
   "metadata": {
    "colab": {},
    "colab_type": "code",
    "id": "7id2V21uhzHt"
   },
   "outputs": [],
   "source": [
    "#Time taken to process the complaint\n",
    "file['ProcessTime'] = file['Date sent to company'].dt.day - file['Date received'].dt.day"
   ]
  },
  {
   "cell_type": "code",
   "execution_count": 54,
   "metadata": {
    "colab": {},
    "colab_type": "code",
    "id": "JB-I9projxPX"
   },
   "outputs": [],
   "source": [
    "file['Date_Sent_Month'] = file['Date sent to company'].apply(lambda x: x.month)\n",
    "file['Date_Received_Month'] = file['Date received'].apply(lambda x: x.month)"
   ]
  },
  {
   "cell_type": "code",
   "execution_count": 55,
   "metadata": {
    "colab": {},
    "colab_type": "code",
    "id": "CKmAy_hJiWg2"
   },
   "outputs": [],
   "source": [
    "file.drop(columns=['Date sent to company', 'Date received'], inplace=True)"
   ]
  },
  {
   "cell_type": "code",
   "execution_count": 56,
   "metadata": {
    "colab": {
     "base_uri": "https://localhost:8080/",
     "height": 430
    },
    "colab_type": "code",
    "id": "Jjmq2xGuHqMR",
    "outputId": "730a8768-9f18-4ea5-d8f8-6e2e89fdc7c2"
   },
   "outputs": [
    {
     "data": {
      "text/html": [
       "<div>\n",
       "<style scoped>\n",
       "    .dataframe tbody tr th:only-of-type {\n",
       "        vertical-align: middle;\n",
       "    }\n",
       "\n",
       "    .dataframe tbody tr th {\n",
       "        vertical-align: top;\n",
       "    }\n",
       "\n",
       "    .dataframe thead th {\n",
       "        text-align: right;\n",
       "    }\n",
       "</style>\n",
       "<table border=\"1\" class=\"dataframe\">\n",
       "  <thead>\n",
       "    <tr style=\"text-align: right;\">\n",
       "      <th></th>\n",
       "      <th>Company</th>\n",
       "      <th>Company public response</th>\n",
       "      <th>Company response to consumer</th>\n",
       "      <th>Consumer consent provided?</th>\n",
       "      <th>Consumer disputed?</th>\n",
       "      <th>Issue</th>\n",
       "      <th>Product</th>\n",
       "      <th>State</th>\n",
       "      <th>Sub-product</th>\n",
       "      <th>Submitted via</th>\n",
       "      <th>...</th>\n",
       "      <th>Citibank</th>\n",
       "      <th>Ocwen</th>\n",
       "      <th>Capital One</th>\n",
       "      <th>Nationstar Mortgage</th>\n",
       "      <th>company_complaint_counts</th>\n",
       "      <th>Date_Sent_Day</th>\n",
       "      <th>Date_Received_Day</th>\n",
       "      <th>ProcessTime</th>\n",
       "      <th>Date_Sent_Month</th>\n",
       "      <th>Date_Received_Month</th>\n",
       "    </tr>\n",
       "  </thead>\n",
       "  <tbody>\n",
       "    <tr>\n",
       "      <th>0</th>\n",
       "      <td>Wells Fargo &amp; Company</td>\n",
       "      <td>0</td>\n",
       "      <td>1</td>\n",
       "      <td>0</td>\n",
       "      <td>0</td>\n",
       "      <td>Billing statement</td>\n",
       "      <td>Credit card</td>\n",
       "      <td>MI</td>\n",
       "      <td>No Sub-product</td>\n",
       "      <td>Web</td>\n",
       "      <td>...</td>\n",
       "      <td>0</td>\n",
       "      <td>0</td>\n",
       "      <td>0</td>\n",
       "      <td>0</td>\n",
       "      <td>44337</td>\n",
       "      <td>16</td>\n",
       "      <td>15</td>\n",
       "      <td>1</td>\n",
       "      <td>5</td>\n",
       "      <td>5</td>\n",
       "    </tr>\n",
       "    <tr>\n",
       "      <th>1</th>\n",
       "      <td>Santander Bank US</td>\n",
       "      <td>0</td>\n",
       "      <td>0</td>\n",
       "      <td>0</td>\n",
       "      <td>0</td>\n",
       "      <td>Making/receiving payments, sending money</td>\n",
       "      <td>Bank account or service</td>\n",
       "      <td>PA</td>\n",
       "      <td>(CD) Certificate of deposit</td>\n",
       "      <td>Referral</td>\n",
       "      <td>...</td>\n",
       "      <td>0</td>\n",
       "      <td>0</td>\n",
       "      <td>0</td>\n",
       "      <td>0</td>\n",
       "      <td>2031</td>\n",
       "      <td>24</td>\n",
       "      <td>18</td>\n",
       "      <td>6</td>\n",
       "      <td>9</td>\n",
       "      <td>9</td>\n",
       "    </tr>\n",
       "    <tr>\n",
       "      <th>2</th>\n",
       "      <td>Equifax</td>\n",
       "      <td>0</td>\n",
       "      <td>2</td>\n",
       "      <td>0</td>\n",
       "      <td>0</td>\n",
       "      <td>Incorrect information on credit report</td>\n",
       "      <td>Credit reporting</td>\n",
       "      <td>CA</td>\n",
       "      <td>No Sub-product</td>\n",
       "      <td>Referral</td>\n",
       "      <td>...</td>\n",
       "      <td>0</td>\n",
       "      <td>0</td>\n",
       "      <td>0</td>\n",
       "      <td>0</td>\n",
       "      <td>36013</td>\n",
       "      <td>3</td>\n",
       "      <td>13</td>\n",
       "      <td>-10</td>\n",
       "      <td>4</td>\n",
       "      <td>3</td>\n",
       "    </tr>\n",
       "    <tr>\n",
       "      <th>3</th>\n",
       "      <td>U.S. Bancorp</td>\n",
       "      <td>0</td>\n",
       "      <td>2</td>\n",
       "      <td>1</td>\n",
       "      <td>0</td>\n",
       "      <td>Billing statement</td>\n",
       "      <td>Credit card</td>\n",
       "      <td>GA</td>\n",
       "      <td>No Sub-product</td>\n",
       "      <td>Web</td>\n",
       "      <td>...</td>\n",
       "      <td>0</td>\n",
       "      <td>0</td>\n",
       "      <td>0</td>\n",
       "      <td>0</td>\n",
       "      <td>10243</td>\n",
       "      <td>17</td>\n",
       "      <td>17</td>\n",
       "      <td>0</td>\n",
       "      <td>7</td>\n",
       "      <td>7</td>\n",
       "    </tr>\n",
       "    <tr>\n",
       "      <th>4</th>\n",
       "      <td>Bank of America</td>\n",
       "      <td>0</td>\n",
       "      <td>1</td>\n",
       "      <td>0</td>\n",
       "      <td>0</td>\n",
       "      <td>Transaction issue</td>\n",
       "      <td>Credit card</td>\n",
       "      <td>MA</td>\n",
       "      <td>No Sub-product</td>\n",
       "      <td>Web</td>\n",
       "      <td>...</td>\n",
       "      <td>0</td>\n",
       "      <td>0</td>\n",
       "      <td>0</td>\n",
       "      <td>0</td>\n",
       "      <td>57887</td>\n",
       "      <td>28</td>\n",
       "      <td>20</td>\n",
       "      <td>8</td>\n",
       "      <td>11</td>\n",
       "      <td>11</td>\n",
       "    </tr>\n",
       "  </tbody>\n",
       "</table>\n",
       "<p>5 rows × 29 columns</p>\n",
       "</div>"
      ],
      "text/plain": [
       "                 Company Company public response Company response to consumer  \\\n",
       "0  Wells Fargo & Company                       0                            1   \n",
       "1      Santander Bank US                       0                            0   \n",
       "2                Equifax                       0                            2   \n",
       "3           U.S. Bancorp                       0                            2   \n",
       "4        Bank of America                       0                            1   \n",
       "\n",
       "   Consumer consent provided?  Consumer disputed?  \\\n",
       "0                           0                   0   \n",
       "1                           0                   0   \n",
       "2                           0                   0   \n",
       "3                           1                   0   \n",
       "4                           0                   0   \n",
       "\n",
       "                                      Issue                  Product State  \\\n",
       "0                         Billing statement              Credit card    MI   \n",
       "1  Making/receiving payments, sending money  Bank account or service    PA   \n",
       "2    Incorrect information on credit report         Credit reporting    CA   \n",
       "3                         Billing statement              Credit card    GA   \n",
       "4                         Transaction issue              Credit card    MA   \n",
       "\n",
       "                   Sub-product Submitted via  ... Citibank  Ocwen Capital One  \\\n",
       "0               No Sub-product           Web  ...        0      0           0   \n",
       "1  (CD) Certificate of deposit      Referral  ...        0      0           0   \n",
       "2               No Sub-product      Referral  ...        0      0           0   \n",
       "3               No Sub-product           Web  ...        0      0           0   \n",
       "4               No Sub-product           Web  ...        0      0           0   \n",
       "\n",
       "   Nationstar Mortgage  company_complaint_counts  Date_Sent_Day  \\\n",
       "0                    0                     44337             16   \n",
       "1                    0                      2031             24   \n",
       "2                    0                     36013              3   \n",
       "3                    0                     10243             17   \n",
       "4                    0                     57887             28   \n",
       "\n",
       "   Date_Received_Day  ProcessTime  Date_Sent_Month  Date_Received_Month  \n",
       "0                 15            1                5                    5  \n",
       "1                 18            6                9                    9  \n",
       "2                 13          -10                4                    3  \n",
       "3                 17            0                7                    7  \n",
       "4                 20            8               11                   11  \n",
       "\n",
       "[5 rows x 29 columns]"
      ]
     },
     "execution_count": 56,
     "metadata": {},
     "output_type": "execute_result"
    }
   ],
   "source": [
    "file.head()"
   ]
  },
  {
   "cell_type": "markdown",
   "metadata": {
    "colab_type": "text",
    "id": "i0dhlj5qn6m6"
   },
   "source": [
    "# Creating Dummies"
   ]
  },
  {
   "cell_type": "code",
   "execution_count": 57,
   "metadata": {
    "colab": {},
    "colab_type": "code",
    "id": "hUJohGW4kiXC"
   },
   "outputs": [],
   "source": [
    "cat_cols = ['Submitted via', 'Product', 'Tags', 'Company response to consumer', 'Company public response']\n",
    "\n",
    "file = pd.get_dummies(file, columns=cat_cols)"
   ]
  },
  {
   "cell_type": "code",
   "execution_count": 58,
   "metadata": {
    "colab": {},
    "colab_type": "code",
    "id": "oTOzvXo2qRcw"
   },
   "outputs": [],
   "source": [
    "#These columns have many categories so I am using for loop so that i can provide a cutoff\n",
    "cat_cols = ['Sub-product', 'State', 'Issue']"
   ]
  },
  {
   "cell_type": "code",
   "execution_count": 59,
   "metadata": {
    "colab": {
     "base_uri": "https://localhost:8080/",
     "height": 73
    },
    "colab_type": "code",
    "id": "tYQ0FiIZoxGu",
    "outputId": "836cbed5-5661-40d9-998f-515c0f1d5757"
   },
   "outputs": [
    {
     "name": "stdout",
     "output_type": "stream",
     "text": [
      "Sub-product\n",
      "State\n",
      "Issue\n"
     ]
    }
   ],
   "source": [
    "for col in cat_cols:\n",
    "    freqs=file[col].value_counts()\n",
    "    k=freqs.index[freqs>1500][:-1]\n",
    "    for cat in k:\n",
    "        name=col+'_'+cat\n",
    "        file[name]=(file[col]==cat).astype(int)\n",
    "    del file[col]\n",
    "    print(col)"
   ]
  },
  {
   "cell_type": "code",
   "execution_count": 60,
   "metadata": {
    "colab": {},
    "colab_type": "code",
    "id": "d_0M35CfOBZl"
   },
   "outputs": [],
   "source": [
    "file.drop(columns=['Company'], inplace=True)"
   ]
  },
  {
   "cell_type": "code",
   "execution_count": 61,
   "metadata": {
    "colab": {
     "base_uri": "https://localhost:8080/",
     "height": 321
    },
    "colab_type": "code",
    "id": "nQgpkSaoHyB3",
    "outputId": "02b13368-f97b-4068-e68e-6b9e3e040c2f"
   },
   "outputs": [
    {
     "data": {
      "text/html": [
       "<div>\n",
       "<style scoped>\n",
       "    .dataframe tbody tr th:only-of-type {\n",
       "        vertical-align: middle;\n",
       "    }\n",
       "\n",
       "    .dataframe tbody tr th {\n",
       "        vertical-align: top;\n",
       "    }\n",
       "\n",
       "    .dataframe thead th {\n",
       "        text-align: right;\n",
       "    }\n",
       "</style>\n",
       "<table border=\"1\" class=\"dataframe\">\n",
       "  <thead>\n",
       "    <tr style=\"text-align: right;\">\n",
       "      <th></th>\n",
       "      <th>Consumer consent provided?</th>\n",
       "      <th>Consumer disputed?</th>\n",
       "      <th>Timely response?</th>\n",
       "      <th>data</th>\n",
       "      <th>Bank of America</th>\n",
       "      <th>Wells Fargo &amp; Company</th>\n",
       "      <th>JPMorgan Chase &amp; Co.</th>\n",
       "      <th>Equifax</th>\n",
       "      <th>Experian</th>\n",
       "      <th>TransUnion Intermediate Holdings, Inc.</th>\n",
       "      <th>...</th>\n",
       "      <th>Issue_Advertising and marketing</th>\n",
       "      <th>Issue_Fraud or scam</th>\n",
       "      <th>Issue_Credit card protection / Debt protection</th>\n",
       "      <th>Issue_Billing statement</th>\n",
       "      <th>Issue_Rewards</th>\n",
       "      <th>Issue_Transaction issue</th>\n",
       "      <th>Issue_Charged fees or interest I didn't expect</th>\n",
       "      <th>Issue_Payoff process</th>\n",
       "      <th>Issue_Credit line increase/decrease</th>\n",
       "      <th>Issue_Other fee</th>\n",
       "    </tr>\n",
       "  </thead>\n",
       "  <tbody>\n",
       "    <tr>\n",
       "      <th>0</th>\n",
       "      <td>0</td>\n",
       "      <td>0</td>\n",
       "      <td>1</td>\n",
       "      <td>train</td>\n",
       "      <td>0</td>\n",
       "      <td>0</td>\n",
       "      <td>0</td>\n",
       "      <td>0</td>\n",
       "      <td>0</td>\n",
       "      <td>0</td>\n",
       "      <td>...</td>\n",
       "      <td>0</td>\n",
       "      <td>0</td>\n",
       "      <td>0</td>\n",
       "      <td>1</td>\n",
       "      <td>0</td>\n",
       "      <td>0</td>\n",
       "      <td>0</td>\n",
       "      <td>0</td>\n",
       "      <td>0</td>\n",
       "      <td>0</td>\n",
       "    </tr>\n",
       "    <tr>\n",
       "      <th>1</th>\n",
       "      <td>0</td>\n",
       "      <td>0</td>\n",
       "      <td>1</td>\n",
       "      <td>train</td>\n",
       "      <td>0</td>\n",
       "      <td>0</td>\n",
       "      <td>0</td>\n",
       "      <td>0</td>\n",
       "      <td>0</td>\n",
       "      <td>0</td>\n",
       "      <td>...</td>\n",
       "      <td>0</td>\n",
       "      <td>0</td>\n",
       "      <td>0</td>\n",
       "      <td>0</td>\n",
       "      <td>0</td>\n",
       "      <td>0</td>\n",
       "      <td>0</td>\n",
       "      <td>0</td>\n",
       "      <td>0</td>\n",
       "      <td>0</td>\n",
       "    </tr>\n",
       "    <tr>\n",
       "      <th>2</th>\n",
       "      <td>0</td>\n",
       "      <td>0</td>\n",
       "      <td>1</td>\n",
       "      <td>train</td>\n",
       "      <td>0</td>\n",
       "      <td>0</td>\n",
       "      <td>0</td>\n",
       "      <td>1</td>\n",
       "      <td>0</td>\n",
       "      <td>0</td>\n",
       "      <td>...</td>\n",
       "      <td>0</td>\n",
       "      <td>0</td>\n",
       "      <td>0</td>\n",
       "      <td>0</td>\n",
       "      <td>0</td>\n",
       "      <td>0</td>\n",
       "      <td>0</td>\n",
       "      <td>0</td>\n",
       "      <td>0</td>\n",
       "      <td>0</td>\n",
       "    </tr>\n",
       "    <tr>\n",
       "      <th>3</th>\n",
       "      <td>1</td>\n",
       "      <td>0</td>\n",
       "      <td>1</td>\n",
       "      <td>train</td>\n",
       "      <td>0</td>\n",
       "      <td>0</td>\n",
       "      <td>0</td>\n",
       "      <td>0</td>\n",
       "      <td>0</td>\n",
       "      <td>0</td>\n",
       "      <td>...</td>\n",
       "      <td>0</td>\n",
       "      <td>0</td>\n",
       "      <td>0</td>\n",
       "      <td>1</td>\n",
       "      <td>0</td>\n",
       "      <td>0</td>\n",
       "      <td>0</td>\n",
       "      <td>0</td>\n",
       "      <td>0</td>\n",
       "      <td>0</td>\n",
       "    </tr>\n",
       "    <tr>\n",
       "      <th>4</th>\n",
       "      <td>0</td>\n",
       "      <td>0</td>\n",
       "      <td>1</td>\n",
       "      <td>train</td>\n",
       "      <td>1</td>\n",
       "      <td>1</td>\n",
       "      <td>0</td>\n",
       "      <td>0</td>\n",
       "      <td>0</td>\n",
       "      <td>0</td>\n",
       "      <td>...</td>\n",
       "      <td>0</td>\n",
       "      <td>0</td>\n",
       "      <td>0</td>\n",
       "      <td>0</td>\n",
       "      <td>0</td>\n",
       "      <td>1</td>\n",
       "      <td>0</td>\n",
       "      <td>0</td>\n",
       "      <td>0</td>\n",
       "      <td>0</td>\n",
       "    </tr>\n",
       "  </tbody>\n",
       "</table>\n",
       "<p>5 rows × 173 columns</p>\n",
       "</div>"
      ],
      "text/plain": [
       "   Consumer consent provided?  Consumer disputed?  Timely response?   data  \\\n",
       "0                           0                   0                 1  train   \n",
       "1                           0                   0                 1  train   \n",
       "2                           0                   0                 1  train   \n",
       "3                           1                   0                 1  train   \n",
       "4                           0                   0                 1  train   \n",
       "\n",
       "   Bank of America  Wells Fargo & Company  JPMorgan Chase & Co.  Equifax  \\\n",
       "0                0                      0                     0        0   \n",
       "1                0                      0                     0        0   \n",
       "2                0                      0                     0        1   \n",
       "3                0                      0                     0        0   \n",
       "4                1                      1                     0        0   \n",
       "\n",
       "   Experian  TransUnion Intermediate Holdings, Inc.  ...  \\\n",
       "0         0                                       0  ...   \n",
       "1         0                                       0  ...   \n",
       "2         0                                       0  ...   \n",
       "3         0                                       0  ...   \n",
       "4         0                                       0  ...   \n",
       "\n",
       "   Issue_Advertising and marketing  Issue_Fraud or scam  \\\n",
       "0                                0                    0   \n",
       "1                                0                    0   \n",
       "2                                0                    0   \n",
       "3                                0                    0   \n",
       "4                                0                    0   \n",
       "\n",
       "   Issue_Credit card protection / Debt protection  Issue_Billing statement  \\\n",
       "0                                               0                        1   \n",
       "1                                               0                        0   \n",
       "2                                               0                        0   \n",
       "3                                               0                        1   \n",
       "4                                               0                        0   \n",
       "\n",
       "   Issue_Rewards  Issue_Transaction issue  \\\n",
       "0              0                        0   \n",
       "1              0                        0   \n",
       "2              0                        0   \n",
       "3              0                        0   \n",
       "4              0                        1   \n",
       "\n",
       "   Issue_Charged fees or interest I didn't expect  Issue_Payoff process  \\\n",
       "0                                               0                     0   \n",
       "1                                               0                     0   \n",
       "2                                               0                     0   \n",
       "3                                               0                     0   \n",
       "4                                               0                     0   \n",
       "\n",
       "   Issue_Credit line increase/decrease  Issue_Other fee  \n",
       "0                                    0                0  \n",
       "1                                    0                0  \n",
       "2                                    0                0  \n",
       "3                                    0                0  \n",
       "4                                    0                0  \n",
       "\n",
       "[5 rows x 173 columns]"
      ]
     },
     "execution_count": 61,
     "metadata": {},
     "output_type": "execute_result"
    }
   ],
   "source": [
    "file.head()"
   ]
  },
  {
   "cell_type": "code",
   "execution_count": 65,
   "metadata": {
    "colab": {
     "base_uri": "https://localhost:8080/",
     "height": 36
    },
    "colab_type": "code",
    "id": "BTsAwdOlONVC",
    "outputId": "01322b80-d8ea-4078-865c-946eb84439ae"
   },
   "outputs": [
    {
     "data": {
      "text/plain": [
       "(119605, 173)"
      ]
     },
     "execution_count": 65,
     "metadata": {},
     "output_type": "execute_result"
    }
   ],
   "source": [
    "file.shape"
   ]
  },
  {
   "cell_type": "code",
   "execution_count": 64,
   "metadata": {},
   "outputs": [],
   "source": [
    "file=file.sample(frac =0.2) "
   ]
  },
  {
   "cell_type": "markdown",
   "metadata": {
    "colab_type": "text",
    "id": "aWTjIf3_OST6"
   },
   "source": [
    "# Training the model"
   ]
  },
  {
   "cell_type": "code",
   "execution_count": 66,
   "metadata": {
    "colab": {},
    "colab_type": "code",
    "id": "dgMzp71isfBx"
   },
   "outputs": [],
   "source": [
    "train_data = file[file['data'] == 'train']\n",
    "test_data = file[file['data'] == 'test']\n",
    "\n",
    "train_data.drop(columns='data', axis=1, inplace=True)\n",
    "test_data.drop(columns=['data', 'Consumer disputed?'], axis=1, inplace = True)"
   ]
  },
  {
   "cell_type": "code",
   "execution_count": 67,
   "metadata": {
    "colab": {},
    "colab_type": "code",
    "id": "556DVsvIsq9i"
   },
   "outputs": [],
   "source": [
    "X = train_data.drop(columns=['Consumer disputed?'])\n",
    "y = train_data['Consumer disputed?']"
   ]
  },
  {
   "cell_type": "code",
   "execution_count": 68,
   "metadata": {
    "colab": {},
    "colab_type": "code",
    "id": "5XuX1gJWsr1y"
   },
   "outputs": [],
   "source": [
    "X_train, X_test, Y_train, Y_test = train_test_split(X, y,test_size=0.5,random_state=10)"
   ]
  },
  {
   "cell_type": "code",
   "execution_count": 69,
   "metadata": {
    "colab": {},
    "colab_type": "code",
    "id": "DPDGu-2Ss-ri"
   },
   "outputs": [],
   "source": [
    "from sklearn.preprocessing import StandardScaler\n",
    "scaler = StandardScaler()\n",
    "scaler.fit(X_train)\n",
    "X_train = scaler.transform(X_train)\n",
    "scaler.fit(X_test)\n",
    "X_test = scaler.transform(X_test)"
   ]
  },
  {
   "cell_type": "code",
   "execution_count": null,
   "metadata": {
    "colab": {},
    "colab_type": "code",
    "id": "8oaKb9gGsuV4"
   },
   "outputs": [],
   "source": [
    "from sklearn.linear_model import LogisticRegression\n",
    "from sklearn.metrics import roc_auc_score\n",
    "params={'class_weight':['balanced',None],\n",
    "        'penalty':['l1','l2'],\n",
    "        'C':[0.01,0.1,1,10,100]}"
   ]
  },
  {
   "cell_type": "code",
   "execution_count": 71,
   "metadata": {
    "colab": {},
    "colab_type": "code",
    "id": "R1utNypls4pw"
   },
   "outputs": [],
   "source": [
    "from sklearn.model_selection import GridSearchCV\n",
    "model=LogisticRegression(fit_intercept=True)\n",
    "grid_search=GridSearchCV(model,param_grid=params,cv=3,scoring=\"roc_auc\",verbose=4,n_jobs=-1)"
   ]
  },
  {
   "cell_type": "code",
   "execution_count": 72,
   "metadata": {},
   "outputs": [
    {
     "name": "stdout",
     "output_type": "stream",
     "text": [
      "Fitting 3 folds for each of 20 candidates, totalling 60 fits\n"
     ]
    },
    {
     "name": "stderr",
     "output_type": "stream",
     "text": [
      "[Parallel(n_jobs=-1)]: Using backend LokyBackend with 12 concurrent workers.\n",
      "[Parallel(n_jobs=-1)]: Done   1 tasks      | elapsed:    3.4s\n",
      "[Parallel(n_jobs=-1)]: Done  53 out of  60 | elapsed:   19.6s remaining:    2.5s\n",
      "[Parallel(n_jobs=-1)]: Done  60 out of  60 | elapsed:   38.4s finished\n"
     ]
    }
   ],
   "source": [
    "Final=grid_search.fit(X,y)"
   ]
  },
  {
   "cell_type": "code",
   "execution_count": 73,
   "metadata": {},
   "outputs": [
    {
     "data": {
      "text/plain": [
       "0.6154875891093058"
      ]
     },
     "execution_count": 73,
     "metadata": {},
     "output_type": "execute_result"
    }
   ],
   "source": [
    "Final.best_score_\n"
   ]
  },
  {
   "cell_type": "code",
   "execution_count": 74,
   "metadata": {},
   "outputs": [],
   "source": [
    "from lazypredict.Supervised import LazyClassifier"
   ]
  },
  {
   "cell_type": "code",
   "execution_count": 76,
   "metadata": {},
   "outputs": [
    {
     "name": "stderr",
     "output_type": "stream",
     "text": [
      "\r",
      "  0%|                                                                                           | 0/28 [00:00<?, ?it/s]"
     ]
    },
    {
     "name": "stdout",
     "output_type": "stream",
     "text": [
      "{'Model': 'AdaBoostClassifier', 'Accuracy': 0.7890852064819655, 'Balanced Accuracy': 0.500099117851125, 'ROC AUC': 0.500099117851125, 'F1 Score': 0.6961025388098926, 'Time taken': 5.941359996795654}\n"
     ]
    },
    {
     "name": "stderr",
     "output_type": "stream",
     "text": [
      "\r",
      "  4%|██▉                                                                                | 1/28 [00:05<02:40,  5.94s/it]"
     ]
    },
    {
     "name": "stdout",
     "output_type": "stream",
     "text": [
      "{'Model': 'BaggingClassifier', 'Accuracy': 0.7690956612650287, 'Balanced Accuracy': 0.5112871674343414, 'ROC AUC': 0.5112871674343414, 'F1 Score': 0.7069202495921302, 'Time taken': 9.576389789581299}\n"
     ]
    },
    {
     "name": "stderr",
     "output_type": "stream",
     "text": [
      "\r",
      "  7%|█████▉                                                                             | 2/28 [00:15<03:02,  7.03s/it]"
     ]
    },
    {
     "name": "stdout",
     "output_type": "stream",
     "text": [
      "{'Model': 'BernoulliNB', 'Accuracy': 0.7551489806586513, 'Balanced Accuracy': 0.517009353188675, 'ROC AUC': 0.5170093531886751, 'F1 Score': 0.708453782290005, 'Time taken': 0.6875121593475342}\n"
     ]
    },
    {
     "name": "stderr",
     "output_type": "stream",
     "text": [
      "\r",
      " 11%|████████▉                                                                          | 3/28 [00:16<02:08,  5.13s/it]"
     ]
    },
    {
     "name": "stdout",
     "output_type": "stream",
     "text": [
      "{'Model': 'CalibratedClassifierCV', 'Accuracy': 0.78893883951908, 'Balanced Accuracy': 0.5001879131149349, 'ROC AUC': 0.5001879131149349, 'F1 Score': 0.6962280454584303, 'Time taken': 73.10871267318726}\n"
     ]
    },
    {
     "name": "stderr",
     "output_type": "stream",
     "text": [
      "\r",
      " 14%|███████████▊                                                                       | 4/28 [01:29<10:12, 25.52s/it]"
     ]
    },
    {
     "name": "stdout",
     "output_type": "stream",
     "text": [
      "{'Model': 'CheckingClassifier', 'Accuracy': 0.7890433873497125, 'Balanced Accuracy': 0.5, 'ROC AUC': 0.5, 'F1 Score': 0.6960026475854362, 'Time taken': 0.518380880355835}\n"
     ]
    },
    {
     "name": "stderr",
     "output_type": "stream",
     "text": [
      "\r",
      " 18%|██████████████▊                                                                    | 5/28 [01:29<06:54, 18.02s/it]"
     ]
    },
    {
     "name": "stdout",
     "output_type": "stream",
     "text": [
      "{'Model': 'DecisionTreeClassifier', 'Accuracy': 0.6789545216936749, 'Balanced Accuracy': 0.5211204023852751, 'ROC AUC': 0.5211204023852752, 'F1 Score': 0.6800014151328393, 'Time taken': 1.792656660079956}\n"
     ]
    },
    {
     "name": "stderr",
     "output_type": "stream",
     "text": [
      "\r",
      " 21%|█████████████████▊                                                                 | 6/28 [01:31<04:49, 13.15s/it]"
     ]
    },
    {
     "name": "stdout",
     "output_type": "stream",
     "text": [
      "{'Model': 'DummyClassifier', 'Accuracy': 0.6665551489806586, 'Balanced Accuracy': 0.4996836258318561, 'ROC AUC': 0.49968362583185605, 'F1 Score': 0.6667182745859896, 'Time taken': 0.5161566734313965}\n"
     ]
    },
    {
     "name": "stderr",
     "output_type": "stream",
     "text": [
      "\r",
      " 25%|████████████████████▊                                                              | 7/28 [01:32<03:16,  9.36s/it]"
     ]
    },
    {
     "name": "stdout",
     "output_type": "stream",
     "text": [
      "{'Model': 'ExtraTreeClassifier', 'Accuracy': 0.6774699424986932, 'Balanced Accuracy': 0.5187999149628935, 'ROC AUC': 0.5187999149628933, 'F1 Score': 0.6784931527331692, 'Time taken': 0.7431178092956543}\n"
     ]
    },
    {
     "name": "stderr",
     "output_type": "stream",
     "text": [
      "\r",
      " 29%|███████████████████████▋                                                           | 8/28 [01:32<02:15,  6.78s/it]"
     ]
    },
    {
     "name": "stdout",
     "output_type": "stream",
     "text": [
      "{'Model': 'ExtraTreesClassifier', 'Accuracy': 0.7588290642969159, 'Balanced Accuracy': 0.5125152558910033, 'ROC AUC': 0.5125152558910033, 'F1 Score': 0.7062670350002731, 'Time taken': 2.3903348445892334}\n"
     ]
    },
    {
     "name": "stderr",
     "output_type": "stream",
     "text": [
      "\r",
      " 32%|██████████████████████████▋                                                        | 9/28 [01:35<01:43,  5.46s/it]"
     ]
    },
    {
     "name": "stdout",
     "output_type": "stream",
     "text": [
      "{'Model': 'GaussianNB', 'Accuracy': 0.33641400940930477, 'Balanced Accuracy': 0.5256897757719704, 'ROC AUC': 0.5256897757719703, 'F1 Score': 0.3270178536779463, 'Time taken': 0.8090927600860596}\n"
     ]
    },
    {
     "name": "stderr",
     "output_type": "stream",
     "text": [
      "\r",
      " 36%|█████████████████████████████▎                                                    | 10/28 [01:36<01:13,  4.07s/it]"
     ]
    },
    {
     "name": "stdout",
     "output_type": "stream",
     "text": [
      "{'Model': 'KNeighborsClassifier', 'Accuracy': 0.7465133298484057, 'Balanced Accuracy': 0.5126627034130182, 'ROC AUC': 0.5126627034130182, 'F1 Score': 0.7036288238520729, 'Time taken': 503.5561385154724}\n"
     ]
    },
    {
     "name": "stderr",
     "output_type": "stream",
     "text": [
      " 46%|██████████████████████████████████████                                            | 13/28 [10:04<19:09, 76.61s/it]"
     ]
    },
    {
     "name": "stdout",
     "output_type": "stream",
     "text": [
      "{'Model': 'LinearDiscriminantAnalysis', 'Accuracy': 0.7890852064819655, 'Balanced Accuracy': 0.500099117851125, 'ROC AUC': 0.500099117851125, 'F1 Score': 0.6961025388098926, 'Time taken': 1.6585192680358887}\n"
     ]
    },
    {
     "name": "stderr",
     "output_type": "stream",
     "text": [
      "\r",
      " 50%|█████████████████████████████████████████                                         | 14/28 [10:06<12:37, 54.13s/it]"
     ]
    },
    {
     "name": "stdout",
     "output_type": "stream",
     "text": [
      "{'Model': 'LinearSVC', 'Accuracy': 0.7868060637741767, 'Balanced Accuracy': 0.501632209870209, 'ROC AUC': 0.5016322098702091, 'F1 Score': 0.6981323050502396, 'Time taken': 37.948681354522705}\n"
     ]
    },
    {
     "name": "stderr",
     "output_type": "stream",
     "text": [
      "\r",
      " 54%|███████████████████████████████████████████▉                                      | 15/28 [10:43<10:40, 49.27s/it]"
     ]
    },
    {
     "name": "stdout",
     "output_type": "stream",
     "text": [
      "{'Model': 'LogisticRegression', 'Accuracy': 0.7890852064819655, 'Balanced Accuracy': 0.500099117851125, 'ROC AUC': 0.500099117851125, 'F1 Score': 0.6961025388098926, 'Time taken': 4.470500230789185}\n"
     ]
    },
    {
     "name": "stderr",
     "output_type": "stream",
     "text": [
      "\r",
      " 57%|██████████████████████████████████████████████▊                                   | 16/28 [10:48<07:10, 35.83s/it]"
     ]
    },
    {
     "name": "stdout",
     "output_type": "stream",
     "text": [
      "{'Model': 'NearestCentroid', 'Accuracy': 0.5578044955567172, 'Balanced Accuracy': 0.5739369539548307, 'ROC AUC': 0.5739369539548307, 'F1 Score': 0.5983995111241673, 'Time taken': 0.5898263454437256}\n"
     ]
    },
    {
     "name": "stderr",
     "output_type": "stream",
     "text": [
      " 64%|████████████████████████████████████████████████████▋                             | 18/28 [10:49<02:58, 17.80s/it]"
     ]
    },
    {
     "name": "stdout",
     "output_type": "stream",
     "text": [
      "{'Model': 'PassiveAggressiveClassifier', 'Accuracy': 0.6780554103502352, 'Balanced Accuracy': 0.5043568502254884, 'ROC AUC': 0.5043568502254885, 'F1 Score': 0.6739626011858227, 'Time taken': 0.7058494091033936}\n"
     ]
    },
    {
     "name": "stderr",
     "output_type": "stream",
     "text": [
      "\r",
      " 68%|███████████████████████████████████████████████████████▋                          | 19/28 [10:50<01:54, 12.68s/it]"
     ]
    },
    {
     "name": "stdout",
     "output_type": "stream",
     "text": [
      "{'Model': 'Perceptron', 'Accuracy': 0.6990904338734971, 'Balanced Accuracy': 0.5133292194802278, 'ROC AUC': 0.5133292194802279, 'F1 Score': 0.6870517522067282, 'Time taken': 0.6820855140686035}\n"
     ]
    },
    {
     "name": "stderr",
     "output_type": "stream",
     "text": [
      "\r",
      " 71%|██████████████████████████████████████████████████████████▌                       | 20/28 [10:50<01:12,  9.08s/it]"
     ]
    },
    {
     "name": "stdout",
     "output_type": "stream",
     "text": [
      "{'Model': 'QuadraticDiscriminantAnalysis', 'Accuracy': 0.5883742812336644, 'Balanced Accuracy': 0.4930955956372428, 'ROC AUC': 0.49309559563724276, 'F1 Score': 0.6181417093306736, 'Time taken': 1.3258452415466309}\n"
     ]
    },
    {
     "name": "stderr",
     "output_type": "stream",
     "text": [
      "\r",
      " 75%|█████████████████████████████████████████████████████████████▌                    | 21/28 [10:52<00:47,  6.75s/it]"
     ]
    },
    {
     "name": "stdout",
     "output_type": "stream",
     "text": [
      "{'Model': 'RandomForestClassifier', 'Accuracy': 0.7721902770517511, 'Balanced Accuracy': 0.5084916833987139, 'ROC AUC': 0.5084916833987139, 'F1 Score': 0.7049748377611512, 'Time taken': 1.7356712818145752}\n"
     ]
    },
    {
     "name": "stderr",
     "output_type": "stream",
     "text": [
      "\r",
      " 79%|████████████████████████████████████████████████████████████████▍                 | 22/28 [10:53<00:31,  5.25s/it]"
     ]
    },
    {
     "name": "stdout",
     "output_type": "stream",
     "text": [
      "{'Model': 'RidgeClassifier', 'Accuracy': 0.7890433873497125, 'Balanced Accuracy': 0.5, 'ROC AUC': 0.5, 'F1 Score': 0.6960026475854362, 'Time taken': 0.6272621154785156}\n"
     ]
    },
    {
     "name": "stderr",
     "output_type": "stream",
     "text": [
      "\r",
      " 82%|███████████████████████████████████████████████████████████████████▎              | 23/28 [10:54<00:19,  3.86s/it]"
     ]
    },
    {
     "name": "stdout",
     "output_type": "stream",
     "text": [
      "{'Model': 'RidgeClassifierCV', 'Accuracy': 0.7890433873497125, 'Balanced Accuracy': 0.5, 'ROC AUC': 0.5, 'F1 Score': 0.6960026475854362, 'Time taken': 1.213404655456543}\n"
     ]
    },
    {
     "name": "stderr",
     "output_type": "stream",
     "text": [
      "\r",
      " 86%|██████████████████████████████████████████████████████████████████████▎           | 24/28 [10:55<00:12,  3.07s/it]"
     ]
    },
    {
     "name": "stdout",
     "output_type": "stream",
     "text": [
      "{'Model': 'SGDClassifier', 'Accuracy': 0.7873915316257187, 'Balanced Accuracy': 0.500732394136535, 'ROC AUC': 0.500732394136535, 'F1 Score': 0.6970935346729061, 'Time taken': 2.39290189743042}\n"
     ]
    },
    {
     "name": "stderr",
     "output_type": "stream",
     "text": [
      "\r",
      " 89%|█████████████████████████████████████████████████████████████████████████▏        | 25/28 [10:58<00:08,  2.87s/it]"
     ]
    },
    {
     "name": "stdout",
     "output_type": "stream",
     "text": [
      "{'Model': 'SVC', 'Accuracy': 0.7885415577626764, 'Balanced Accuracy': 0.5002992539075537, 'ROC AUC': 0.5002992539075537, 'F1 Score': 0.6964249179695857, 'Time taken': 1729.434999704361}\n"
     ]
    },
    {
     "name": "stderr",
     "output_type": "stream",
     "text": [
      "\r",
      " 93%|███████████████████████████████████████████████████████████████████████████▏     | 26/28 [39:47<17:21, 520.84s/it]"
     ]
    },
    {
     "name": "stdout",
     "output_type": "stream",
     "text": [
      "{'Model': 'XGBClassifier', 'Accuracy': 0.7854678515420805, 'Balanced Accuracy': 0.5028538250402455, 'ROC AUC': 0.5028538250402455, 'F1 Score': 0.6995651884978025, 'Time taken': 5.86967396736145}\n"
     ]
    },
    {
     "name": "stderr",
     "output_type": "stream",
     "text": [
      "\r",
      " 96%|██████████████████████████████████████████████████████████████████████████████   | 27/28 [39:53<06:06, 366.35s/it]"
     ]
    },
    {
     "name": "stdout",
     "output_type": "stream",
     "text": [
      "{'Model': 'LGBMClassifier', 'Accuracy': 0.788813382122321, 'Balanced Accuracy': 0.5003625762828696, 'ROC AUC': 0.5003625762828697, 'F1 Score': 0.6964419440111945, 'Time taken': 1.393829107284546}\n"
     ]
    },
    {
     "name": "stderr",
     "output_type": "stream",
     "text": [
      "100%|█████████████████████████████████████████████████████████████████████████████████| 28/28 [39:54<00:00, 256.86s/it]\n"
     ]
    },
    {
     "data": {
      "text/html": [
       "<div>\n",
       "<style scoped>\n",
       "    .dataframe tbody tr th:only-of-type {\n",
       "        vertical-align: middle;\n",
       "    }\n",
       "\n",
       "    .dataframe tbody tr th {\n",
       "        vertical-align: top;\n",
       "    }\n",
       "\n",
       "    .dataframe thead th {\n",
       "        text-align: right;\n",
       "    }\n",
       "</style>\n",
       "<table border=\"1\" class=\"dataframe\">\n",
       "  <thead>\n",
       "    <tr style=\"text-align: right;\">\n",
       "      <th></th>\n",
       "      <th>Accuracy</th>\n",
       "      <th>Balanced Accuracy</th>\n",
       "      <th>ROC AUC</th>\n",
       "      <th>F1 Score</th>\n",
       "      <th>Time Taken</th>\n",
       "    </tr>\n",
       "    <tr>\n",
       "      <th>Model</th>\n",
       "      <th></th>\n",
       "      <th></th>\n",
       "      <th></th>\n",
       "      <th></th>\n",
       "      <th></th>\n",
       "    </tr>\n",
       "  </thead>\n",
       "  <tbody>\n",
       "    <tr>\n",
       "      <th>NearestCentroid</th>\n",
       "      <td>0.56</td>\n",
       "      <td>0.57</td>\n",
       "      <td>0.57</td>\n",
       "      <td>0.60</td>\n",
       "      <td>0.59</td>\n",
       "    </tr>\n",
       "    <tr>\n",
       "      <th>GaussianNB</th>\n",
       "      <td>0.34</td>\n",
       "      <td>0.53</td>\n",
       "      <td>0.53</td>\n",
       "      <td>0.33</td>\n",
       "      <td>0.81</td>\n",
       "    </tr>\n",
       "    <tr>\n",
       "      <th>DecisionTreeClassifier</th>\n",
       "      <td>0.68</td>\n",
       "      <td>0.52</td>\n",
       "      <td>0.52</td>\n",
       "      <td>0.68</td>\n",
       "      <td>1.79</td>\n",
       "    </tr>\n",
       "    <tr>\n",
       "      <th>ExtraTreeClassifier</th>\n",
       "      <td>0.68</td>\n",
       "      <td>0.52</td>\n",
       "      <td>0.52</td>\n",
       "      <td>0.68</td>\n",
       "      <td>0.74</td>\n",
       "    </tr>\n",
       "    <tr>\n",
       "      <th>BernoulliNB</th>\n",
       "      <td>0.76</td>\n",
       "      <td>0.52</td>\n",
       "      <td>0.52</td>\n",
       "      <td>0.71</td>\n",
       "      <td>0.69</td>\n",
       "    </tr>\n",
       "    <tr>\n",
       "      <th>Perceptron</th>\n",
       "      <td>0.70</td>\n",
       "      <td>0.51</td>\n",
       "      <td>0.51</td>\n",
       "      <td>0.69</td>\n",
       "      <td>0.68</td>\n",
       "    </tr>\n",
       "    <tr>\n",
       "      <th>KNeighborsClassifier</th>\n",
       "      <td>0.75</td>\n",
       "      <td>0.51</td>\n",
       "      <td>0.51</td>\n",
       "      <td>0.70</td>\n",
       "      <td>503.56</td>\n",
       "    </tr>\n",
       "    <tr>\n",
       "      <th>ExtraTreesClassifier</th>\n",
       "      <td>0.76</td>\n",
       "      <td>0.51</td>\n",
       "      <td>0.51</td>\n",
       "      <td>0.71</td>\n",
       "      <td>2.39</td>\n",
       "    </tr>\n",
       "    <tr>\n",
       "      <th>BaggingClassifier</th>\n",
       "      <td>0.77</td>\n",
       "      <td>0.51</td>\n",
       "      <td>0.51</td>\n",
       "      <td>0.71</td>\n",
       "      <td>9.58</td>\n",
       "    </tr>\n",
       "    <tr>\n",
       "      <th>RandomForestClassifier</th>\n",
       "      <td>0.77</td>\n",
       "      <td>0.51</td>\n",
       "      <td>0.51</td>\n",
       "      <td>0.70</td>\n",
       "      <td>1.74</td>\n",
       "    </tr>\n",
       "    <tr>\n",
       "      <th>PassiveAggressiveClassifier</th>\n",
       "      <td>0.68</td>\n",
       "      <td>0.50</td>\n",
       "      <td>0.50</td>\n",
       "      <td>0.67</td>\n",
       "      <td>0.71</td>\n",
       "    </tr>\n",
       "    <tr>\n",
       "      <th>XGBClassifier</th>\n",
       "      <td>0.79</td>\n",
       "      <td>0.50</td>\n",
       "      <td>0.50</td>\n",
       "      <td>0.70</td>\n",
       "      <td>5.87</td>\n",
       "    </tr>\n",
       "    <tr>\n",
       "      <th>LinearSVC</th>\n",
       "      <td>0.79</td>\n",
       "      <td>0.50</td>\n",
       "      <td>0.50</td>\n",
       "      <td>0.70</td>\n",
       "      <td>37.95</td>\n",
       "    </tr>\n",
       "    <tr>\n",
       "      <th>SGDClassifier</th>\n",
       "      <td>0.79</td>\n",
       "      <td>0.50</td>\n",
       "      <td>0.50</td>\n",
       "      <td>0.70</td>\n",
       "      <td>2.39</td>\n",
       "    </tr>\n",
       "    <tr>\n",
       "      <th>LGBMClassifier</th>\n",
       "      <td>0.79</td>\n",
       "      <td>0.50</td>\n",
       "      <td>0.50</td>\n",
       "      <td>0.70</td>\n",
       "      <td>1.39</td>\n",
       "    </tr>\n",
       "    <tr>\n",
       "      <th>SVC</th>\n",
       "      <td>0.79</td>\n",
       "      <td>0.50</td>\n",
       "      <td>0.50</td>\n",
       "      <td>0.70</td>\n",
       "      <td>1729.43</td>\n",
       "    </tr>\n",
       "    <tr>\n",
       "      <th>CalibratedClassifierCV</th>\n",
       "      <td>0.79</td>\n",
       "      <td>0.50</td>\n",
       "      <td>0.50</td>\n",
       "      <td>0.70</td>\n",
       "      <td>73.11</td>\n",
       "    </tr>\n",
       "    <tr>\n",
       "      <th>LogisticRegression</th>\n",
       "      <td>0.79</td>\n",
       "      <td>0.50</td>\n",
       "      <td>0.50</td>\n",
       "      <td>0.70</td>\n",
       "      <td>4.47</td>\n",
       "    </tr>\n",
       "    <tr>\n",
       "      <th>LinearDiscriminantAnalysis</th>\n",
       "      <td>0.79</td>\n",
       "      <td>0.50</td>\n",
       "      <td>0.50</td>\n",
       "      <td>0.70</td>\n",
       "      <td>1.66</td>\n",
       "    </tr>\n",
       "    <tr>\n",
       "      <th>AdaBoostClassifier</th>\n",
       "      <td>0.79</td>\n",
       "      <td>0.50</td>\n",
       "      <td>0.50</td>\n",
       "      <td>0.70</td>\n",
       "      <td>5.94</td>\n",
       "    </tr>\n",
       "    <tr>\n",
       "      <th>RidgeClassifier</th>\n",
       "      <td>0.79</td>\n",
       "      <td>0.50</td>\n",
       "      <td>0.50</td>\n",
       "      <td>0.70</td>\n",
       "      <td>0.63</td>\n",
       "    </tr>\n",
       "    <tr>\n",
       "      <th>RidgeClassifierCV</th>\n",
       "      <td>0.79</td>\n",
       "      <td>0.50</td>\n",
       "      <td>0.50</td>\n",
       "      <td>0.70</td>\n",
       "      <td>1.21</td>\n",
       "    </tr>\n",
       "    <tr>\n",
       "      <th>CheckingClassifier</th>\n",
       "      <td>0.79</td>\n",
       "      <td>0.50</td>\n",
       "      <td>0.50</td>\n",
       "      <td>0.70</td>\n",
       "      <td>0.52</td>\n",
       "    </tr>\n",
       "    <tr>\n",
       "      <th>DummyClassifier</th>\n",
       "      <td>0.67</td>\n",
       "      <td>0.50</td>\n",
       "      <td>0.50</td>\n",
       "      <td>0.67</td>\n",
       "      <td>0.52</td>\n",
       "    </tr>\n",
       "    <tr>\n",
       "      <th>QuadraticDiscriminantAnalysis</th>\n",
       "      <td>0.59</td>\n",
       "      <td>0.49</td>\n",
       "      <td>0.49</td>\n",
       "      <td>0.62</td>\n",
       "      <td>1.33</td>\n",
       "    </tr>\n",
       "  </tbody>\n",
       "</table>\n",
       "</div>"
      ],
      "text/plain": [
       "                               Accuracy  Balanced Accuracy  ROC AUC  F1 Score  \\\n",
       "Model                                                                           \n",
       "NearestCentroid                    0.56               0.57     0.57      0.60   \n",
       "GaussianNB                         0.34               0.53     0.53      0.33   \n",
       "DecisionTreeClassifier             0.68               0.52     0.52      0.68   \n",
       "ExtraTreeClassifier                0.68               0.52     0.52      0.68   \n",
       "BernoulliNB                        0.76               0.52     0.52      0.71   \n",
       "Perceptron                         0.70               0.51     0.51      0.69   \n",
       "KNeighborsClassifier               0.75               0.51     0.51      0.70   \n",
       "ExtraTreesClassifier               0.76               0.51     0.51      0.71   \n",
       "BaggingClassifier                  0.77               0.51     0.51      0.71   \n",
       "RandomForestClassifier             0.77               0.51     0.51      0.70   \n",
       "PassiveAggressiveClassifier        0.68               0.50     0.50      0.67   \n",
       "XGBClassifier                      0.79               0.50     0.50      0.70   \n",
       "LinearSVC                          0.79               0.50     0.50      0.70   \n",
       "SGDClassifier                      0.79               0.50     0.50      0.70   \n",
       "LGBMClassifier                     0.79               0.50     0.50      0.70   \n",
       "SVC                                0.79               0.50     0.50      0.70   \n",
       "CalibratedClassifierCV             0.79               0.50     0.50      0.70   \n",
       "LogisticRegression                 0.79               0.50     0.50      0.70   \n",
       "LinearDiscriminantAnalysis         0.79               0.50     0.50      0.70   \n",
       "AdaBoostClassifier                 0.79               0.50     0.50      0.70   \n",
       "RidgeClassifier                    0.79               0.50     0.50      0.70   \n",
       "RidgeClassifierCV                  0.79               0.50     0.50      0.70   \n",
       "CheckingClassifier                 0.79               0.50     0.50      0.70   \n",
       "DummyClassifier                    0.67               0.50     0.50      0.67   \n",
       "QuadraticDiscriminantAnalysis      0.59               0.49     0.49      0.62   \n",
       "\n",
       "                               Time Taken  \n",
       "Model                                      \n",
       "NearestCentroid                      0.59  \n",
       "GaussianNB                           0.81  \n",
       "DecisionTreeClassifier               1.79  \n",
       "ExtraTreeClassifier                  0.74  \n",
       "BernoulliNB                          0.69  \n",
       "Perceptron                           0.68  \n",
       "KNeighborsClassifier               503.56  \n",
       "ExtraTreesClassifier                 2.39  \n",
       "BaggingClassifier                    9.58  \n",
       "RandomForestClassifier               1.74  \n",
       "PassiveAggressiveClassifier          0.71  \n",
       "XGBClassifier                        5.87  \n",
       "LinearSVC                           37.95  \n",
       "SGDClassifier                        2.39  \n",
       "LGBMClassifier                       1.39  \n",
       "SVC                               1729.43  \n",
       "CalibratedClassifierCV              73.11  \n",
       "LogisticRegression                   4.47  \n",
       "LinearDiscriminantAnalysis           1.66  \n",
       "AdaBoostClassifier                   5.94  \n",
       "RidgeClassifier                      0.63  \n",
       "RidgeClassifierCV                    1.21  \n",
       "CheckingClassifier                   0.52  \n",
       "DummyClassifier                      0.52  \n",
       "QuadraticDiscriminantAnalysis        1.33  "
      ]
     },
     "execution_count": 76,
     "metadata": {},
     "output_type": "execute_result"
    }
   ],
   "source": [
    "clf = LazyClassifier(verbose=4,ignore_warnings=True, custom_metric=None)\n",
    "models,predictions = clf.fit(X_train, X_test, Y_train, Y_test)\n"
   ]
  },
  {
   "cell_type": "code",
   "execution_count": 79,
   "metadata": {},
   "outputs": [
    {
     "data": {
      "text/html": [
       "<div>\n",
       "<style scoped>\n",
       "    .dataframe tbody tr th:only-of-type {\n",
       "        vertical-align: middle;\n",
       "    }\n",
       "\n",
       "    .dataframe tbody tr th {\n",
       "        vertical-align: top;\n",
       "    }\n",
       "\n",
       "    .dataframe thead th {\n",
       "        text-align: right;\n",
       "    }\n",
       "</style>\n",
       "<table border=\"1\" class=\"dataframe\">\n",
       "  <thead>\n",
       "    <tr style=\"text-align: right;\">\n",
       "      <th></th>\n",
       "      <th>Accuracy</th>\n",
       "      <th>Balanced Accuracy</th>\n",
       "      <th>ROC AUC</th>\n",
       "      <th>F1 Score</th>\n",
       "      <th>Time Taken</th>\n",
       "    </tr>\n",
       "    <tr>\n",
       "      <th>Model</th>\n",
       "      <th></th>\n",
       "      <th></th>\n",
       "      <th></th>\n",
       "      <th></th>\n",
       "      <th></th>\n",
       "    </tr>\n",
       "  </thead>\n",
       "  <tbody>\n",
       "    <tr>\n",
       "      <th>NearestCentroid</th>\n",
       "      <td>0.56</td>\n",
       "      <td>0.57</td>\n",
       "      <td>0.57</td>\n",
       "      <td>0.60</td>\n",
       "      <td>0.59</td>\n",
       "    </tr>\n",
       "    <tr>\n",
       "      <th>GaussianNB</th>\n",
       "      <td>0.34</td>\n",
       "      <td>0.53</td>\n",
       "      <td>0.53</td>\n",
       "      <td>0.33</td>\n",
       "      <td>0.81</td>\n",
       "    </tr>\n",
       "    <tr>\n",
       "      <th>DecisionTreeClassifier</th>\n",
       "      <td>0.68</td>\n",
       "      <td>0.52</td>\n",
       "      <td>0.52</td>\n",
       "      <td>0.68</td>\n",
       "      <td>1.79</td>\n",
       "    </tr>\n",
       "    <tr>\n",
       "      <th>ExtraTreeClassifier</th>\n",
       "      <td>0.68</td>\n",
       "      <td>0.52</td>\n",
       "      <td>0.52</td>\n",
       "      <td>0.68</td>\n",
       "      <td>0.74</td>\n",
       "    </tr>\n",
       "    <tr>\n",
       "      <th>BernoulliNB</th>\n",
       "      <td>0.76</td>\n",
       "      <td>0.52</td>\n",
       "      <td>0.52</td>\n",
       "      <td>0.71</td>\n",
       "      <td>0.69</td>\n",
       "    </tr>\n",
       "    <tr>\n",
       "      <th>Perceptron</th>\n",
       "      <td>0.70</td>\n",
       "      <td>0.51</td>\n",
       "      <td>0.51</td>\n",
       "      <td>0.69</td>\n",
       "      <td>0.68</td>\n",
       "    </tr>\n",
       "    <tr>\n",
       "      <th>KNeighborsClassifier</th>\n",
       "      <td>0.75</td>\n",
       "      <td>0.51</td>\n",
       "      <td>0.51</td>\n",
       "      <td>0.70</td>\n",
       "      <td>503.56</td>\n",
       "    </tr>\n",
       "    <tr>\n",
       "      <th>ExtraTreesClassifier</th>\n",
       "      <td>0.76</td>\n",
       "      <td>0.51</td>\n",
       "      <td>0.51</td>\n",
       "      <td>0.71</td>\n",
       "      <td>2.39</td>\n",
       "    </tr>\n",
       "    <tr>\n",
       "      <th>BaggingClassifier</th>\n",
       "      <td>0.77</td>\n",
       "      <td>0.51</td>\n",
       "      <td>0.51</td>\n",
       "      <td>0.71</td>\n",
       "      <td>9.58</td>\n",
       "    </tr>\n",
       "    <tr>\n",
       "      <th>RandomForestClassifier</th>\n",
       "      <td>0.77</td>\n",
       "      <td>0.51</td>\n",
       "      <td>0.51</td>\n",
       "      <td>0.70</td>\n",
       "      <td>1.74</td>\n",
       "    </tr>\n",
       "    <tr>\n",
       "      <th>PassiveAggressiveClassifier</th>\n",
       "      <td>0.68</td>\n",
       "      <td>0.50</td>\n",
       "      <td>0.50</td>\n",
       "      <td>0.67</td>\n",
       "      <td>0.71</td>\n",
       "    </tr>\n",
       "    <tr>\n",
       "      <th>XGBClassifier</th>\n",
       "      <td>0.79</td>\n",
       "      <td>0.50</td>\n",
       "      <td>0.50</td>\n",
       "      <td>0.70</td>\n",
       "      <td>5.87</td>\n",
       "    </tr>\n",
       "    <tr>\n",
       "      <th>LinearSVC</th>\n",
       "      <td>0.79</td>\n",
       "      <td>0.50</td>\n",
       "      <td>0.50</td>\n",
       "      <td>0.70</td>\n",
       "      <td>37.95</td>\n",
       "    </tr>\n",
       "    <tr>\n",
       "      <th>SGDClassifier</th>\n",
       "      <td>0.79</td>\n",
       "      <td>0.50</td>\n",
       "      <td>0.50</td>\n",
       "      <td>0.70</td>\n",
       "      <td>2.39</td>\n",
       "    </tr>\n",
       "    <tr>\n",
       "      <th>LGBMClassifier</th>\n",
       "      <td>0.79</td>\n",
       "      <td>0.50</td>\n",
       "      <td>0.50</td>\n",
       "      <td>0.70</td>\n",
       "      <td>1.39</td>\n",
       "    </tr>\n",
       "    <tr>\n",
       "      <th>SVC</th>\n",
       "      <td>0.79</td>\n",
       "      <td>0.50</td>\n",
       "      <td>0.50</td>\n",
       "      <td>0.70</td>\n",
       "      <td>1729.43</td>\n",
       "    </tr>\n",
       "    <tr>\n",
       "      <th>CalibratedClassifierCV</th>\n",
       "      <td>0.79</td>\n",
       "      <td>0.50</td>\n",
       "      <td>0.50</td>\n",
       "      <td>0.70</td>\n",
       "      <td>73.11</td>\n",
       "    </tr>\n",
       "    <tr>\n",
       "      <th>LogisticRegression</th>\n",
       "      <td>0.79</td>\n",
       "      <td>0.50</td>\n",
       "      <td>0.50</td>\n",
       "      <td>0.70</td>\n",
       "      <td>4.47</td>\n",
       "    </tr>\n",
       "    <tr>\n",
       "      <th>LinearDiscriminantAnalysis</th>\n",
       "      <td>0.79</td>\n",
       "      <td>0.50</td>\n",
       "      <td>0.50</td>\n",
       "      <td>0.70</td>\n",
       "      <td>1.66</td>\n",
       "    </tr>\n",
       "    <tr>\n",
       "      <th>AdaBoostClassifier</th>\n",
       "      <td>0.79</td>\n",
       "      <td>0.50</td>\n",
       "      <td>0.50</td>\n",
       "      <td>0.70</td>\n",
       "      <td>5.94</td>\n",
       "    </tr>\n",
       "    <tr>\n",
       "      <th>RidgeClassifier</th>\n",
       "      <td>0.79</td>\n",
       "      <td>0.50</td>\n",
       "      <td>0.50</td>\n",
       "      <td>0.70</td>\n",
       "      <td>0.63</td>\n",
       "    </tr>\n",
       "    <tr>\n",
       "      <th>RidgeClassifierCV</th>\n",
       "      <td>0.79</td>\n",
       "      <td>0.50</td>\n",
       "      <td>0.50</td>\n",
       "      <td>0.70</td>\n",
       "      <td>1.21</td>\n",
       "    </tr>\n",
       "    <tr>\n",
       "      <th>CheckingClassifier</th>\n",
       "      <td>0.79</td>\n",
       "      <td>0.50</td>\n",
       "      <td>0.50</td>\n",
       "      <td>0.70</td>\n",
       "      <td>0.52</td>\n",
       "    </tr>\n",
       "    <tr>\n",
       "      <th>DummyClassifier</th>\n",
       "      <td>0.67</td>\n",
       "      <td>0.50</td>\n",
       "      <td>0.50</td>\n",
       "      <td>0.67</td>\n",
       "      <td>0.52</td>\n",
       "    </tr>\n",
       "    <tr>\n",
       "      <th>QuadraticDiscriminantAnalysis</th>\n",
       "      <td>0.59</td>\n",
       "      <td>0.49</td>\n",
       "      <td>0.49</td>\n",
       "      <td>0.62</td>\n",
       "      <td>1.33</td>\n",
       "    </tr>\n",
       "  </tbody>\n",
       "</table>\n",
       "</div>"
      ],
      "text/plain": [
       "                               Accuracy  Balanced Accuracy  ROC AUC  F1 Score  \\\n",
       "Model                                                                           \n",
       "NearestCentroid                    0.56               0.57     0.57      0.60   \n",
       "GaussianNB                         0.34               0.53     0.53      0.33   \n",
       "DecisionTreeClassifier             0.68               0.52     0.52      0.68   \n",
       "ExtraTreeClassifier                0.68               0.52     0.52      0.68   \n",
       "BernoulliNB                        0.76               0.52     0.52      0.71   \n",
       "Perceptron                         0.70               0.51     0.51      0.69   \n",
       "KNeighborsClassifier               0.75               0.51     0.51      0.70   \n",
       "ExtraTreesClassifier               0.76               0.51     0.51      0.71   \n",
       "BaggingClassifier                  0.77               0.51     0.51      0.71   \n",
       "RandomForestClassifier             0.77               0.51     0.51      0.70   \n",
       "PassiveAggressiveClassifier        0.68               0.50     0.50      0.67   \n",
       "XGBClassifier                      0.79               0.50     0.50      0.70   \n",
       "LinearSVC                          0.79               0.50     0.50      0.70   \n",
       "SGDClassifier                      0.79               0.50     0.50      0.70   \n",
       "LGBMClassifier                     0.79               0.50     0.50      0.70   \n",
       "SVC                                0.79               0.50     0.50      0.70   \n",
       "CalibratedClassifierCV             0.79               0.50     0.50      0.70   \n",
       "LogisticRegression                 0.79               0.50     0.50      0.70   \n",
       "LinearDiscriminantAnalysis         0.79               0.50     0.50      0.70   \n",
       "AdaBoostClassifier                 0.79               0.50     0.50      0.70   \n",
       "RidgeClassifier                    0.79               0.50     0.50      0.70   \n",
       "RidgeClassifierCV                  0.79               0.50     0.50      0.70   \n",
       "CheckingClassifier                 0.79               0.50     0.50      0.70   \n",
       "DummyClassifier                    0.67               0.50     0.50      0.67   \n",
       "QuadraticDiscriminantAnalysis      0.59               0.49     0.49      0.62   \n",
       "\n",
       "                               Time Taken  \n",
       "Model                                      \n",
       "NearestCentroid                      0.59  \n",
       "GaussianNB                           0.81  \n",
       "DecisionTreeClassifier               1.79  \n",
       "ExtraTreeClassifier                  0.74  \n",
       "BernoulliNB                          0.69  \n",
       "Perceptron                           0.68  \n",
       "KNeighborsClassifier               503.56  \n",
       "ExtraTreesClassifier                 2.39  \n",
       "BaggingClassifier                    9.58  \n",
       "RandomForestClassifier               1.74  \n",
       "PassiveAggressiveClassifier          0.71  \n",
       "XGBClassifier                        5.87  \n",
       "LinearSVC                           37.95  \n",
       "SGDClassifier                        2.39  \n",
       "LGBMClassifier                       1.39  \n",
       "SVC                               1729.43  \n",
       "CalibratedClassifierCV              73.11  \n",
       "LogisticRegression                   4.47  \n",
       "LinearDiscriminantAnalysis           1.66  \n",
       "AdaBoostClassifier                   5.94  \n",
       "RidgeClassifier                      0.63  \n",
       "RidgeClassifierCV                    1.21  \n",
       "CheckingClassifier                   0.52  \n",
       "DummyClassifier                      0.52  \n",
       "QuadraticDiscriminantAnalysis        1.33  "
      ]
     },
     "execution_count": 79,
     "metadata": {},
     "output_type": "execute_result"
    }
   ],
   "source": [
    "models\n",
    "\n",
    "\n"
   ]
  },
  {
   "cell_type": "code",
   "execution_count": null,
   "metadata": {},
   "outputs": [],
   "source": []
  }
 ],
 "metadata": {
  "accelerator": "GPU",
  "colab": {
   "collapsed_sections": [
    "nzIkb1dqH8sw",
    "ML1LpRI6ccqm",
    "W-qrubcz1GCA",
    "YphNctUxkFYp",
    "i0dhlj5qn6m6",
    "aWTjIf3_OST6"
   ],
   "name": "Consumer_Complaint.ipynb",
   "provenance": []
  },
  "kernelspec": {
   "display_name": "Python 3",
   "language": "python",
   "name": "python3"
  },
  "language_info": {
   "codemirror_mode": {
    "name": "ipython",
    "version": 3
   },
   "file_extension": ".py",
   "mimetype": "text/x-python",
   "name": "python",
   "nbconvert_exporter": "python",
   "pygments_lexer": "ipython3",
   "version": "3.7.3"
  }
 },
 "nbformat": 4,
 "nbformat_minor": 1
}
